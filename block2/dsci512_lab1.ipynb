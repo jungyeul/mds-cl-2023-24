{
 "cells": [
  {
   "cell_type": "markdown",
   "metadata": {},
   "source": [
    "# DSCI 512 Lab 1: Complexity (Cheat sheet)"
   ]
  },
  {
   "cell_type": "markdown",
   "metadata": {},
   "source": [
    "## Instructions\n",
    "rubric={mechanics:2}\n",
    "\n",
    "Follow the [general lab instructions](https://ubc-mds.github.io/resources_pages/general_lab_instructions/).\n",
    "\n",
    "Run the code block below to get the imports you need for this lab"
   ]
  },
  {
   "cell_type": "code",
   "execution_count": 1,
   "metadata": {},
   "outputs": [],
   "source": [
    "import numpy as np\n",
    "from sys import getsizeof"
   ]
  },
  {
   "cell_type": "markdown",
   "metadata": {},
   "source": [
    "In Exercises 3 and 4 you will need a list of English words (and you can use this list elsewhere for testing if it is useful). Run the cells below to prepare what you need."
   ]
  },
  {
   "cell_type": "code",
   "execution_count": 1,
   "metadata": {},
   "outputs": [],
   "source": [
    "#!python3 -m pip install nltk"
   ]
  },
  {
   "cell_type": "code",
   "execution_count": 3,
   "metadata": {},
   "outputs": [
    {
     "name": "stderr",
     "output_type": "stream",
     "text": [
      "[nltk_data] Downloading package words to /Users/jungyeul/nltk_data...\n",
      "[nltk_data]   Package words is already up-to-date!\n"
     ]
    },
    {
     "data": {
      "text/plain": [
       "True"
      ]
     },
     "execution_count": 3,
     "metadata": {},
     "output_type": "execute_result"
    }
   ],
   "source": [
    "import nltk\n",
    "nltk.download(\"words\")"
   ]
  },
  {
   "cell_type": "code",
   "execution_count": 4,
   "metadata": {},
   "outputs": [],
   "source": [
    "from nltk.corpus import words\n",
    "\n",
    "word_list = [word for word in words.words() if word.islower()]"
   ]
  },
  {
   "cell_type": "markdown",
   "metadata": {},
   "source": [
    "## Exercise T.1: Dups! (Lecture 1 teamwork)\n",
    "rubric={accuracy:3}\n",
    "\n",
    "Consider the problem of identifying whether a string contains a duplicate character. Your team needs to write two functions which solve this problem:\n",
    "- `has_dup_let_On2` which solves this problem using an $O(n^2)$ algorithm\n",
    "- `has_dup_let_On` which solves this problem using an $O(n)$ algorithm. **Hint**: Adding an item to a python `set` and checking to see if an item is in a set are both $O(1)$ operations\n",
    "\n",
    "There are multiple ways to code either function, any of them is okay as long as the Big O notation is correct! When you're done, run the asserts to show the functions work, and the timing code below that to show that your $O(n)$ version is faster. (Is it faster only because of the complexity, though, or...? And what is the tradeoff in terms of space complexity?)"
   ]
  },
  {
   "cell_type": "code",
   "execution_count": 5,
   "metadata": {},
   "outputs": [],
   "source": [
    "def has_dup_let_On2(S):\n",
    "    '''Returns True if string S has any characters which appear more than once, False otherwise'''\n",
    "    #your code here\n",
    "    \n",
    "def has_dup_let_On(S):\n",
    "    '''Returns True if string S has any characters which appear more than once, False otherwise'''\n",
    "    #your code here"
   ]
  },
  {
   "cell_type": "code",
   "execution_count": 6,
   "metadata": {},
   "outputs": [
    {
     "name": "stdout",
     "output_type": "stream",
     "text": [
      "Success!\n"
     ]
    }
   ],
   "source": [
    "no_dup_S = \"abcdefghijklmnopqrstuvwxyz1234567890-+\"\n",
    "has_dup_S = \"abcdefghijklmnopqrstuvwxyz1234567890-+z\"\n",
    "assert not has_dup_let_On2(no_dup_S)\n",
    "assert not has_dup_let_On(no_dup_S)\n",
    "assert has_dup_let_On2(has_dup_S)\n",
    "assert has_dup_let_On2(has_dup_S)\n",
    "print(\"Success!\")"
   ]
  },
  {
   "cell_type": "code",
   "execution_count": 7,
   "metadata": {},
   "outputs": [
    {
     "name": "stdout",
     "output_type": "stream",
     "text": [
      "47.7 µs ± 712 ns per loop (mean ± std. dev. of 7 runs, 1,000 loops each)\n"
     ]
    }
   ],
   "source": [
    "%%timeit -n1000\n",
    "assert not has_dup_let_On2(no_dup_S)"
   ]
  },
  {
   "cell_type": "code",
   "execution_count": 8,
   "metadata": {},
   "outputs": [
    {
     "name": "stdout",
     "output_type": "stream",
     "text": [
      "966 ns ± 65.8 ns per loop (mean ± std. dev. of 7 runs, 1,000 loops each)\n"
     ]
    }
   ],
   "source": [
    "%%timeit -n1000\n",
    "assert not has_dup_let_On(no_dup_S)"
   ]
  },
  {
   "cell_type": "code",
   "execution_count": null,
   "metadata": {},
   "outputs": [],
   "source": [
    "# A microsecond (µs)  is equal to 1000 nanoseconds (ns)"
   ]
  },
  {
   "cell_type": "markdown",
   "metadata": {},
   "source": [
    "## Exercise T.2: AlphaBinary (Lecture 2 teamwork)\n",
    "rubric={accuracy:2, quality:1}\n",
    "\n",
    "In Exercise T.2 as well as Exercise 3, you'll be creating classes which allow for checking if a word is in a lexicon of words, basically mimicking the functionality of a Python set object. Below, we provide you with an example that is just a wrapper around the binary search function introduced in lecture. Note that implementing the `__contains__` method allows us to make use of the Python `in` operator."
   ]
  },
  {
   "cell_type": "code",
   "execution_count": 9,
   "metadata": {},
   "outputs": [],
   "source": [
    "def search_sorted(data, key):\n",
    "    \"\"\"\n",
    "    Searches the key in data using binary search \n",
    "    and returns True if found and False otherwise. \n",
    "    \n",
    "    Arguments\n",
    "    data -- (list) the elements to search within\n",
    "    key -- the key to search for\n",
    "    \"\"\"\n",
    "    low = 0 \n",
    "    high = len(data) - 1 \n",
    "    while (low <= high):\n",
    "        mid = (high + low)//2\n",
    "        if data[mid] == key:\n",
    "            return True\n",
    "        if key < data[mid]:\n",
    "            high = mid - 1\n",
    "        else:\n",
    "            low = mid + 1\n",
    "    return False\n",
    "\n",
    "\n",
    "class BinaryLookup: \n",
    "    ''' look up words using binary search'''\n",
    "    \n",
    "    def __init__(self,words):\n",
    "        '''words -- a list of words in no particular order, is sorted here'''\n",
    "        self.words = sorted(words) # create a copy of the words before sorting\n",
    "        ### sorted(list) vs.  list.sort()\n",
    "        \n",
    "    def __contains__(self,word):\n",
    "        ''' use binary search to see if word appears in self.words'''\n",
    "        return search_sorted(self.words, word)\n",
    "    #my code here\n",
    "    def __sizeof__(self):\n",
    "        ''' get the bytes used by the self.words list'''\n",
    "        return getsizeof(self.words)\n",
    "    #my code here"
   ]
  },
  {
   "cell_type": "code",
   "execution_count": 10,
   "metadata": {},
   "outputs": [],
   "source": [
    "S = BinaryLookup([\"hello\", \"goodbye\", \"beautiful\", \"cruel\", \"world\"])\n",
    "assert \"world\" in S\n",
    "assert \"happy\" not in S"
   ]
  },
  {
   "cell_type": "markdown",
   "metadata": {},
   "source": [
    "Your team is going to create a class AlphaBinaryLookup with the same interface as BinaryLookup above. However, internally AlphaLookup is different: instead of having a single ordered list, it contains a list of 26 lists, where each list is just a sorted list of the words for that letter of the alphabet. For example, if we passed in just the words [\"alpha\", \"binary\", \"beta\",\"aardvark\"], we should have an internal representation that looks like this:\n",
    "\n",
    "[[\"aardvark\",\"alpha\"],[\"beta\",\"binary\"],[],[],...]\n",
    "\n",
    "You should make use of the built-in [ord](https://docs.python.org/3/library/functions.html#ord) function to convert the first letter to an integer for this purpose (**HINT**: `ord(\"a\")` is not zero, but `ord(\"z\") - ord(\"a\")`is 25). Your `__contains__` function should work by first accessing the list corresponding to the first letter of the word, and then by carrying out binary search on that list. When you're done write some asserts that show that it working as expected (your asserts shouldn't just check functionality, but also that the internal data structure is as you expect).\n",
    "\n",
    "You can assume that all words you are passed begin with a lower case letter–you should mention this in your doc string-and (though not necessarily here to get full points) it would be good coding practice to raise a special exception if this is not the case!\n",
    "\n",
    "Intuitively, this is a mixture of the search and hash approach to lookup, with a small, fixed size number of hashing buckets and thus so many collisions that we need binary search to navigate them!"
   ]
  },
  {
   "cell_type": "code",
   "execution_count": 11,
   "metadata": {},
   "outputs": [],
   "source": [
    "class AlphaBinaryLookup:\n",
    "    #your code here\n",
    "    ''' looking up words based on the first letter, followed by binary search'''\n",
    "    \n",
    "    def __init__(self,words):\n",
    "        '''self.lists is created as list of 26 sorted lists\n",
    "        each list has all words starting with a particular letter, sorted\n",
    "        words is a list of strings corresponding to words which start with a lower case letter'''\n",
    "        # ...\n",
    "        \n",
    "    def __contains__(self,word):\n",
    "        '''see if self.words contains word, first by finding the appropriate list for the first\n",
    "        letter of the word, and then doing binary search'''\n",
    "        # ...\n",
    "        #     \n",
    "    def __sizeof__(self):\n",
    "        '''get the memory in byes used by all the lists in self.lists'''\n",
    "        # ...\n",
    "        \n",
    "    #your code here"
   ]
  },
  {
   "cell_type": "code",
   "execution_count": 12,
   "metadata": {},
   "outputs": [
    {
     "name": "stdout",
     "output_type": "stream",
     "text": [
      "Success!\n"
     ]
    }
   ],
   "source": [
    "#tests\n",
    "# your code here\n",
    "lookup = AlphaBinaryLookup([....])\n",
    "\n",
    "assert len(lookup.lists) == 26\n",
    "print(\"Success!\")"
   ]
  },
  {
   "cell_type": "markdown",
   "metadata": {},
   "source": [
    "## Exercise 1: Time complexity\n",
    "\n",
    "For each of the following functions, determine the time complexity as a function of the input $n$ and briefly justify your answer. If you get stuck, it's fair game to test things empirically and then try to understand what you observe. **Please state your assumptions if you don’t know how long some operation in Python takes.** \n",
    "\n",
    "The first question is done for you, as an example."
   ]
  },
  {
   "cell_type": "code",
   "execution_count": 13,
   "metadata": {},
   "outputs": [],
   "source": [
    "def example(n):\n",
    "    for i in range(n):\n",
    "        print(i)\n",
    "        print(i**2)\n",
    "        x = 9\n",
    "        y = 10"
   ]
  },
  {
   "cell_type": "code",
   "execution_count": 14,
   "metadata": {},
   "outputs": [
    {
     "name": "stdout",
     "output_type": "stream",
     "text": [
      "0\n",
      "0\n",
      "1\n",
      "1\n",
      "2\n",
      "4\n",
      "3\n",
      "9\n",
      "4\n",
      "16\n"
     ]
    }
   ],
   "source": [
    "example(5)"
   ]
  },
  {
   "cell_type": "markdown",
   "metadata": {},
   "source": [
    "_Sample answer_\n",
    "\n",
    "The time complexity of `example` is  $O(n)$ because the function loops over $n$ elements and only performs constant-time operations in the loop. "
   ]
  },
  {
   "cell_type": "markdown",
   "metadata": {},
   "source": [
    "#### 1.1\n",
    "rubric={reasoning:2}"
   ]
  },
  {
   "cell_type": "code",
   "execution_count": 15,
   "metadata": {},
   "outputs": [],
   "source": [
    "def loopy(n):    \n",
    "    for i in range(n):\n",
    "        for j in range(n):\n",
    "            print('i =', i, '  j =', j)"
   ]
  },
  {
   "cell_type": "code",
   "execution_count": 16,
   "metadata": {},
   "outputs": [
    {
     "name": "stdout",
     "output_type": "stream",
     "text": [
      "i = 0   j = 0\n",
      "i = 0   j = 1\n",
      "i = 0   j = 2\n",
      "i = 0   j = 3\n",
      "i = 1   j = 0\n",
      "i = 1   j = 1\n",
      "i = 1   j = 2\n",
      "i = 1   j = 3\n",
      "i = 2   j = 0\n",
      "i = 2   j = 1\n",
      "i = 2   j = 2\n",
      "i = 2   j = 3\n",
      "i = 3   j = 0\n",
      "i = 3   j = 1\n",
      "i = 3   j = 2\n",
      "i = 3   j = 3\n"
     ]
    }
   ],
   "source": [
    "loopy(4)"
   ]
  },
  {
   "cell_type": "markdown",
   "metadata": {},
   "source": [
    "Answer:\n"
   ]
  },
  {
   "cell_type": "markdown",
   "metadata": {},
   "source": [
    "#### 1.2\n",
    "rubric={reasoning:2}"
   ]
  },
  {
   "cell_type": "code",
   "execution_count": 17,
   "metadata": {},
   "outputs": [],
   "source": [
    "def triangle(n):\n",
    "    for i in range(n):\n",
    "        for j in range(i):\n",
    "            print(\"+\", end='')\n",
    "        print(\"\")"
   ]
  },
  {
   "cell_type": "code",
   "execution_count": 18,
   "metadata": {},
   "outputs": [
    {
     "name": "stdout",
     "output_type": "stream",
     "text": [
      "\n",
      "+\n",
      "++\n",
      "+++\n",
      "++++\n",
      "+++++\n",
      "++++++\n"
     ]
    }
   ],
   "source": [
    "triangle(7)"
   ]
  },
  {
   "cell_type": "markdown",
   "metadata": {},
   "source": [
    "Answer:\n"
   ]
  },
  {
   "cell_type": "markdown",
   "metadata": {},
   "source": [
    "#### 1.3\n",
    "rubric={reasoning:2}"
   ]
  },
  {
   "cell_type": "code",
   "execution_count": 19,
   "metadata": {},
   "outputs": [],
   "source": [
    "def foo(n):\n",
    "    x = np.zeros(n)\n",
    "    x = x + 1000\n",
    "    return x"
   ]
  },
  {
   "cell_type": "code",
   "execution_count": 20,
   "metadata": {},
   "outputs": [
    {
     "name": "stdout",
     "output_type": "stream",
     "text": [
      "size of x:  100000\n"
     ]
    }
   ],
   "source": [
    "print('size of x: ', len(foo(100000)))"
   ]
  },
  {
   "cell_type": "markdown",
   "metadata": {},
   "source": [
    "Answer:\n"
   ]
  },
  {
   "cell_type": "markdown",
   "metadata": {},
   "source": [
    "#### 1.4\n",
    "rubric={reasoning:2}"
   ]
  },
  {
   "cell_type": "code",
   "execution_count": 21,
   "metadata": {},
   "outputs": [],
   "source": [
    "def bar(n):\n",
    "    x = np.zeros(1000)\n",
    "    x = x + n\n",
    "    return x"
   ]
  },
  {
   "cell_type": "code",
   "execution_count": 22,
   "metadata": {},
   "outputs": [
    {
     "name": "stdout",
     "output_type": "stream",
     "text": [
      "size of x:  1000\n"
     ]
    }
   ],
   "source": [
    "print('size of x: ', len(bar(100000)))"
   ]
  },
  {
   "cell_type": "markdown",
   "metadata": {},
   "source": [
    "Answer:\n"
   ]
  },
  {
   "cell_type": "markdown",
   "metadata": {},
   "source": [
    "#### 1.5\n",
    "rubric={reasoning:2}"
   ]
  },
  {
   "cell_type": "code",
   "execution_count": 23,
   "metadata": {},
   "outputs": [
    {
     "name": "stdout",
     "output_type": "stream",
     "text": [
      "i =  2048\n",
      "i =  1024\n",
      "i =  512\n",
      "i =  256\n",
      "i =  128\n",
      "i =  64\n",
      "i =  32\n",
      "i =  16\n",
      "i =  8\n",
      "i =  4\n",
      "i =  2\n"
     ]
    }
   ],
   "source": [
    "def cabin(n):\n",
    "    i = n\n",
    "    while i > 1:\n",
    "        print('i = ', i)\n",
    "        i = i // 2 # the // operator performs integer division, meaning the result is rounded *down* to the nearest integer\n",
    "cabin(2048)"
   ]
  },
  {
   "cell_type": "markdown",
   "metadata": {},
   "source": [
    "Answer:\n"
   ]
  },
  {
   "cell_type": "markdown",
   "metadata": {},
   "source": [
    "#### 1.6\n",
    "rubric={reasoning:2}"
   ]
  },
  {
   "cell_type": "code",
   "execution_count": 1,
   "metadata": {},
   "outputs": [
    {
     "name": "stdout",
     "output_type": "stream",
     "text": [
      "i =  2048\n",
      "i =  204\n",
      "i =  20\n",
      "i =  2\n"
     ]
    }
   ],
   "source": [
    "def cabin10(n):\n",
    "    i = n\n",
    "    while i > 1:\n",
    "        print('i = ', i)\n",
    "        i = i // 10   \n",
    "cabin10(2048)"
   ]
  },
  {
   "cell_type": "markdown",
   "metadata": {},
   "source": [
    "Answer:\n"
   ]
  },
  {
   "cell_type": "markdown",
   "metadata": {},
   "source": [
    "#### 1.7\n",
    "rubric={reasoning:2}"
   ]
  },
  {
   "cell_type": "code",
   "execution_count": 25,
   "metadata": {},
   "outputs": [],
   "source": [
    "def log_cabin(n):\n",
    "    for i in range(n):\n",
    "        print('i = ', i)\n",
    "        for j in range(n//3): \n",
    "            print('j = ', j)\n",
    "            cabin(n)\n",
    "        print('-----------')\n",
    "# log_cabin(4)"
   ]
  },
  {
   "cell_type": "markdown",
   "metadata": {},
   "source": [
    "Answer:\n"
   ]
  },
  {
   "cell_type": "markdown",
   "metadata": {},
   "source": [
    "## Exercise 2: Space complexity\n",
    "\n",
    "For each of the following functions, determine the space complexity as a function of the input $n$ and briefly justify your answer. "
   ]
  },
  {
   "cell_type": "markdown",
   "metadata": {},
   "source": [
    "#### 2.1\n",
    "rubric={reasoning:2}"
   ]
  },
  {
   "cell_type": "code",
   "execution_count": 26,
   "metadata": {},
   "outputs": [],
   "source": [
    "def foo(n):\n",
    "    x = np.zeros(n)\n",
    "    x = x + 1000\n",
    "    return x"
   ]
  },
  {
   "cell_type": "markdown",
   "metadata": {},
   "source": [
    "Answer:\n"
   ]
  },
  {
   "cell_type": "markdown",
   "metadata": {},
   "source": [
    "#### 2.2\n",
    "rubric={reasoning:2}"
   ]
  },
  {
   "cell_type": "code",
   "execution_count": 27,
   "metadata": {},
   "outputs": [],
   "source": [
    "def bar(n):\n",
    "    x = np.zeros(1000)\n",
    "    x = x + n\n",
    "    return x"
   ]
  },
  {
   "cell_type": "markdown",
   "metadata": {},
   "source": [
    "Answer:\n"
   ]
  },
  {
   "cell_type": "markdown",
   "metadata": {},
   "source": [
    "#### 2.3\n",
    "rubric={reasoning:2}"
   ]
  },
  {
   "cell_type": "code",
   "execution_count": 28,
   "metadata": {},
   "outputs": [],
   "source": [
    "def FUNCTION(n):\n",
    "    x = []\n",
    "    for i in range(n):\n",
    "        y = []\n",
    "        for j in range(n):\n",
    "            y.append(\"element!\")\n",
    "        x.append(y)\n",
    "    return x"
   ]
  },
  {
   "cell_type": "markdown",
   "metadata": {},
   "source": [
    "Answer:\n"
   ]
  },
  {
   "cell_type": "markdown",
   "metadata": {},
   "source": [
    "## Exercise 3: Hash lookup\n",
    "\n",
    "In this exercise (like T.2) you will be implementing an alternative to Python sets (well, technically, [frozen sets](https://docs.python.org/3/library/stdtypes.html#frozenset)) for storing a lexicon of words for the purpose of checking membership. You must not use *sets* or *dicts* inside your class, doing so will mean zero points."
   ]
  },
  {
   "cell_type": "markdown",
   "metadata": {},
   "source": [
    "#### 3.1\n",
    "rubric={accuracy:4,quality:2}\n",
    "\n",
    "Create an HashLookup class which implements a simple hash map, with the same basic interface as the above. Instead of having a fixed number of buckets as you did with the `AlphaBinaryLookup` class in T.2, you will have as many buckets as you have words in your list (but note that due to collisions not all of them will have words in them!). As shown in lecture, use the hash function followed by the mod (%) operator to get an index in the appropriate range. You shouldn't use binary search here, just regular (linear) search is fine when there are collisions. Don't forget to document your code!"
   ]
  },
  {
   "cell_type": "code",
   "execution_count": 29,
   "metadata": {},
   "outputs": [],
   "source": [
    "class HashLookup:\n",
    "    # your code here\n",
    "    ''' looking up words using a hash map'''\n",
    "    def __init__(self,words):\n",
    "        '''create a hash map for words (strings) with the number of buckets equal to the number of words\n",
    "        unused buckets are None, buckets with one member just the string, buckets with more than one \n",
    "        are lists'''        \n",
    "        #...\n",
    "    \n",
    "    def _get_hash(self,word):\n",
    "        '''use hash function to get appropriate index for self.map'''    \n",
    "        # ...\n",
    "\n",
    "    def __contains__(self,word):\n",
    "        '''retrieve the bucket corresponding to the hash for word and return True if that word is\n",
    "        in the bucket, False if not'''\n",
    "        # ...\n",
    "\n",
    "    def collisions_info(self):\n",
    "        '''print information about percentage of buckets in the hash map where there are\n",
    "        collisions (two words in same bucket), and the average number of words involved'''\n",
    "\n",
    "        #... \n",
    "        \n",
    "        print(\"percent collisions\")\n",
    "        print('...')\n",
    "        print(\"average size of collisions\")\n",
    "        print('...')\n",
    "    \n"
   ]
  },
  {
   "cell_type": "code",
   "execution_count": 30,
   "metadata": {},
   "outputs": [
    {
     "name": "stdout",
     "output_type": "stream",
     "text": [
      "Success!\n"
     ]
    }
   ],
   "source": [
    "lookup = HashLookup(word_list)\n",
    "assert \"hash\" in lookup\n",
    "assert \"hashed\" not in lookup\n",
    "print(\"Success!\")"
   ]
  },
  {
   "cell_type": "markdown",
   "metadata": {},
   "source": [
    "#### 3.2 (Optional)\n",
    "rubric={efficiency:1}\n",
    "\n",
    "To get this optional efficiency point, your code for `HashLookup` must use a minimal amount of memory (**HINT**: you only need your buckets to be lists when there is a collision)."
   ]
  },
  {
   "cell_type": "markdown",
   "metadata": {},
   "source": [
    "#### 3.3\n",
    "rubric={accuracy:2}\n",
    "\n",
    "Add to your code above an additional `collisions_info` method which gives the percentage of the buckets which contain more than one word and the average size of the buckets where collisions occur. Then, using the cell below, initialize a `HashLookup` and run `collisions_info` for the large list of English words (`word_list`)"
   ]
  },
  {
   "cell_type": "code",
   "execution_count": 31,
   "metadata": {},
   "outputs": [
    {
     "name": "stdout",
     "output_type": "stream",
     "text": [
      "percent collisions\n",
      "0.2642434384691022\n",
      "average size of collisions\n",
      "2.3993058661466624\n"
     ]
    }
   ],
   "source": [
    "# your code here\n",
    "lookup = HashLookup(word_list)\n",
    "lookup.collisions_info()"
   ]
  },
  {
   "cell_type": "markdown",
   "metadata": {},
   "source": [
    "# Exercise 4: Testing the lookups"
   ]
  },
  {
   "cell_type": "markdown",
   "metadata": {},
   "source": [
    "### Exercise 4.1\n",
    "rubric={accuracy:2, quality:1}\n",
    "\n",
    "Using the provided list of words, time how long it takes to confirm membership of all the words in the English word list for each of the lookup options in this lab (`BinaryLookup`, `AlphaBinaryLookup`,`HashLookup`), as well the normal Python set. Ideally, your solution should take advantage of the fact that all of these classes have the same interface (**HINT**: classes can be assigned to variables, e.g. `my_fav_lookup_class = HashLookup` and then instantiated using the variable `my_lookup = my_fav_lookup_class(words)`). Make sure you label your output! "
   ]
  },
  {
   "cell_type": "code",
   "execution_count": 32,
   "metadata": {},
   "outputs": [
    {
     "name": "stdout",
     "output_type": "stream",
     "text": [
      "<class 'set'>\n",
      "12.9 ms ± 1.34 ms per loop (mean ± std. dev. of 7 runs, 100 loops each)\n",
      "<class '__main__.BinaryLookup'>\n",
      "709 ms ± 4.98 ms per loop (mean ± std. dev. of 7 runs, 1 loop each)\n",
      "<class '__main__.AlphaBinaryLookup'>\n",
      "587 ms ± 62.5 ms per loop (mean ± std. dev. of 7 runs, 1 loop each)\n",
      "<class '__main__.HashLookup'>\n",
      "118 ms ± 3.89 ms per loop (mean ± std. dev. of 7 runs, 10 loops each)\n"
     ]
    }
   ],
   "source": [
    "# your code here\n",
    "for lookup_class in [set, BinaryLookup, AlphaBinaryLookup,HashLookup]:\n",
    "    print(lookup_class)\n",
    "    # ...\n",
    "    %timeit ..."
   ]
  },
  {
   "cell_type": "markdown",
   "metadata": {},
   "source": [
    "#### Exercise 4.2\n",
    "rubric={reasoning:2}\n",
    "\n",
    "Discuss your results from 4.1 relative to the complexity of the relevant algorithms and other relevant factors."
   ]
  },
  {
   "cell_type": "markdown",
   "metadata": {},
   "source": [
    "Answer:\n"
   ]
  },
  {
   "cell_type": "markdown",
   "metadata": {},
   "source": [
    "# Exercise 5: Memory Usage (Optional)\n",
    "rubric={accuracy:1}\n",
    "\n",
    "Finally, evaluate the amount of space your lookup methods use. To accomplish this, add a function called `__sizeof__` to each of `BinaryLookup`, `AlphaLookup`, `HashLookup` from above, which should call `getsizeof` on every Python list created within your class, sum the results, and return it. Compare this with the built-in Python `set`. You don't need to worry about the space associated with the strings themselves which are constant across the methods. Then, run `getsizeof` on an instance each of the lookup classes initialized with the English `word_list` (this will call  `__sizeof__` automatically)"
   ]
  },
  {
   "cell_type": "code",
   "execution_count": 33,
   "metadata": {},
   "outputs": [
    {
     "name": "stdout",
     "output_type": "stream",
     "text": [
      "<class 'set'>\n",
      "8388824\n",
      "<class '__main__.BinaryLookup'>\n",
      "1692360\n",
      "<class '__main__.AlphaBinaryLookup'>\n",
      "1803192\n",
      "<class '__main__.HashLookup'>\n",
      "8400128\n"
     ]
    }
   ],
   "source": [
    "# your code here\n",
    "for lookup_class in [set, BinaryLookup, AlphaBinaryLookup,HashLookup]:\n",
    "    print(lookup_class)\n",
    "    # ...\n",
    "    # getsizeof()"
   ]
  }
 ],
 "metadata": {
  "anaconda-cloud": {},
  "kernelspec": {
   "display_name": "Python 3.9.6 64-bit",
   "language": "python",
   "name": "python3"
  },
  "language_info": {
   "codemirror_mode": {
    "name": "ipython",
    "version": 3
   },
   "file_extension": ".py",
   "mimetype": "text/x-python",
   "name": "python",
   "nbconvert_exporter": "python",
   "pygments_lexer": "ipython3",
   "version": "3.9.6"
  },
  "vscode": {
   "interpreter": {
    "hash": "20bf69066c0dd38d51965b69d5e1b6e387082e3198ba56e97997ac55f4e50ad0"
   }
  }
 },
 "nbformat": 4,
 "nbformat_minor": 4
}
