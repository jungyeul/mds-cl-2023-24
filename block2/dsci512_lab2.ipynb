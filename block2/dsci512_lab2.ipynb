{
 "cells": [
  {
   "cell_type": "markdown",
   "metadata": {},
   "source": [
    "# Lab 2. Prallel programming (Cheat sheet)"
   ]
  },
  {
   "cell_type": "markdown",
   "metadata": {},
   "source": [
    "### Instructions\n",
    "rubric={mechanics:3}\n",
    "\n",
    "Follow the [general lab instructions](https://ubc-mds.github.io/resources_pages/general_lab_instructions/)."
   ]
  },
  {
   "cell_type": "markdown",
   "metadata": {},
   "source": []
  },
  {
   "cell_type": "markdown",
   "metadata": {},
   "source": [
    "How many maximum parallel processes can you run?"
   ]
  },
  {
   "cell_type": "code",
   "execution_count": 48,
   "metadata": {},
   "outputs": [
    {
     "name": "stdout",
     "output_type": "stream",
     "text": [
      "Number of processors:  8\n"
     ]
    }
   ],
   "source": [
    "# import multiprocessing as mp\n",
    "import multiprocess as mp\n",
    "\n",
    "print(\"Number of processors: \", mp.cpu_count())"
   ]
  },
  {
   "cell_type": "markdown",
   "metadata": {},
   "source": [
    "## T.3 Estimating Pi Using the Monte Carlo Method"
   ]
  },
  {
   "cell_type": "markdown",
   "metadata": {},
   "source": [
    "rubric={accuracy:4, quality:2}"
   ]
  },
  {
   "cell_type": "markdown",
   "metadata": {},
   "source": [
    "We can estimate pi by throwing thousands of imaginary darts into a “dartboard” represented by a unit circle. The relationship between the number of darts falling inside\n",
    "the circle’s edge and the number falling outside it will allow us to approximate pi.  \n",
    "\n",
    "This is an ideal first problem, as we can split the total workload evenly across a number of processes, each one running on a separate CPU. Each process will end at the\n",
    "same time since the workload for each is equal, so we can investigate the speedups\n",
    "available as we add new CPUs and hyperthreads to the problem.  \n",
    "\n",
    "We throw 10,000 darts into the unit square, and a percentage of them fall into the quarter of the unit circle that’s drawn. This estimate is rather bad—10,000 dart throws does not reliably give us a three-decimal-place result. If you ran your own code, you’d see this estimate vary between 3.0 and 3.2 on each run.\n",
    "To be confident of the first three decimal places, we need to generate 10,000,000 random dart throws.1 This is massively inefficient (and better methods for pi’s estima‐\n",
    "tion exist), but it is rather convenient to demonstrate the benefits of parallelization using multiprocessing.  \n",
    "\n",
    "With the Monte Carlo method, we use the Pythagorean theorem to test if a dart has\n",
    "landed inside our circle"
   ]
  },
  {
   "cell_type": "markdown",
   "metadata": {},
   "source": [
    "$$\n",
    "    x^2 + y^2 \\leq 1^2 = 1\n",
    "$$"
   ]
  },
  {
   "cell_type": "markdown",
   "metadata": {},
   "source": [
    "![Alt text](image.png)"
   ]
  },
  {
   "cell_type": "markdown",
   "metadata": {},
   "source": [
    "$\\pi$ can be estimated as follows.\n",
    "\n",
    "$\\pi r^2/4 : r^2$ = area of quarter circle : area of the retangle\n",
    "\n",
    "$\\pi$ = area of quarter circle*4/area of the retangle"
   ]
  },
  {
   "cell_type": "code",
   "execution_count": 2,
   "metadata": {},
   "outputs": [],
   "source": [
    "import os\n",
    "import random\n",
    "import time\n",
    "from multiprocessing import Pool\n",
    "\n",
    "def estimate_nbr_points_in_quarter_circle(nbr_estimates):\n",
    "    \"\"\"Monte carlo estimate of the number of points in a quarter circle using pure Python\"\"\"\n",
    "    print(f\"Executing estimate_nbr_points_in_quarter_circle with {nbr_estimates:,} on pid {os.getpid()}\")\n",
    "    nbr_trials_in_quarter_unit_circle = 0\n",
    "    for step in range(int(nbr_estimates)):\n",
    "        x = random.uniform(0, 1)\n",
    "        y = random.uniform(0, 1)\n",
    "        is_in_unit_circle = # YOUR CODE HERE\n",
    "        nbr_trials_in_quarter_unit_circle += is_in_unit_circle\n",
    "\n",
    "    return nbr_trials_in_quarter_unit_circle"
   ]
  },
  {
   "cell_type": "code",
   "execution_count": 3,
   "metadata": {},
   "outputs": [],
   "source": [
    "# `is_in_unit_circle` is required to calculate the Euclidean distance:\n",
    "#     x^2 + y^2 <= 1^2 = 1"
   ]
  },
  {
   "cell_type": "code",
   "execution_count": 42,
   "metadata": {},
   "outputs": [
    {
     "name": "stdout",
     "output_type": "stream",
     "text": [
      "1\n",
      "0\n"
     ]
    }
   ],
   "source": [
    "true_false = 0 \n",
    "true_false += True \n",
    "print(true_false)\n",
    "true_false = 0\n",
    "true_false += False \n",
    "print(true_false)"
   ]
  },
  {
   "cell_type": "code",
   "execution_count": 44,
   "metadata": {},
   "outputs": [
    {
     "name": "stdout",
     "output_type": "stream",
     "text": [
      "100000000.0\n"
     ]
    }
   ],
   "source": [
    "nbr_samples_in_total = 1e8\n",
    "print(nbr_samples_in_total)"
   ]
  },
  {
   "cell_type": "code",
   "execution_count": 5,
   "metadata": {},
   "outputs": [
    {
     "name": "stdout",
     "output_type": "stream",
     "text": [
      "Executing estimate_nbr_points_in_quarter_circle with 100,000,000.0 on pid 19201\n",
      "Estimated pi 3.14138636\n",
      "Delta: 67.95222115516663\n"
     ]
    }
   ],
   "source": [
    "nbr_samples_in_total = 1e8\n",
    "\n",
    "t1 = time.time()\n",
    "nbr_in_quarter_unit_circles = estimate_nbr_points_in_quarter_circle(nbr_samples_in_total)\n",
    "pi_estimate = nbr_in_quarter_unit_circles*4/float(nbr_samples_in_total)\n",
    "print(\"Estimated pi\", pi_estimate)\n",
    "print(\"Delta:\", time.time() - t1)"
   ]
  },
  {
   "cell_type": "markdown",
   "metadata": {},
   "source": [
    "Please implement a parallelized program to estimate pi. "
   ]
  },
  {
   "cell_type": "code",
   "execution_count": 6,
   "metadata": {},
   "outputs": [],
   "source": [
    "nbr_parallel_blocks = 10 # or mp.cpu_count()\n",
    "\n",
    "with Pool(processes=nbr_parallel_blocks) as P:\n",
    "    # YOUR CODE HERE\n",
    "\n",
    "    # for you `map`\n",
    "    #   function: `estimate_nbr_points_in_quarter_circle``\n",
    "    #   iterable: `[nbr_samples, nbr_samples, ..., nbr_samples]`, where len == nbr_parallel_blocks (==10)\n",
    "    #   it returns `[nbr_in_quarter_unit_circle, nbr_in_quarter_unit_circle, ..., nbr_in_quarter_unit_circle]`, \n",
    "    #               still len == nbr_parallel_blocks \n",
    "    # then, you do `pi_estimate = nbr_in_quarter_unit_circles*4/float(nbr_samples_in_total)`\n",
    "    #       where `nbr_in_quarter_unit_circles`  is `sum` of `nbr_parallel_blocks` \n",
    "    print(\"Estimated pi\", pi_estimate)\n",
    "    print(\"Delta:\", time.time() - t1)"
   ]
  },
  {
   "cell_type": "markdown",
   "metadata": {},
   "source": [
    "#### Optional\n",
    "\n",
    "Implement it using `joblib`.  Tutorial [here](https://joblib.readthedocs.io/en/latest/parallel.html)"
   ]
  },
  {
   "cell_type": "code",
   "execution_count": 8,
   "metadata": {},
   "outputs": [],
   "source": [
    "from joblib import Parallel, delayed\n",
    "\n",
    "# YOUR CODE HERE"
   ]
  },
  {
   "cell_type": "code",
   "execution_count": 9,
   "metadata": {},
   "outputs": [
    {
     "name": "stderr",
     "output_type": "stream",
     "text": [
      "[Parallel(n_jobs=8)]: Using backend LokyBackend with 8 concurrent workers.\n"
     ]
    },
    {
     "name": "stdout",
     "output_type": "stream",
     "text": [
      "Executing estimate_nbr_points_in_quarter_circle with 12,500,000.0 on pid 19229\n",
      "Executing estimate_nbr_points_in_quarter_circle with 12,500,000.0 on pid 19230\n",
      "Executing estimate_nbr_points_in_quarter_circle with 12,500,000.0 on pid 19232\n",
      "Executing estimate_nbr_points_in_quarter_circle with 12,500,000.0 on pid 19233\n",
      "Executing estimate_nbr_points_in_quarter_circle with 12,500,000.0 on pid 19235\n",
      "Executing estimate_nbr_points_in_quarter_circle with 12,500,000.0 on pid 19231\n",
      "Executing estimate_nbr_points_in_quarter_circle with 12,500,000.0 on pid 19234\n",
      "Executing estimate_nbr_points_in_quarter_circle with 12,500,000.0 on pid 19236\n"
     ]
    },
    {
     "name": "stderr",
     "output_type": "stream",
     "text": [
      "[Parallel(n_jobs=8)]: Done   2 out of   8 | elapsed:   24.9s remaining:  1.2min\n",
      "[Parallel(n_jobs=8)]: Done   8 out of   8 | elapsed:   25.3s finished\n"
     ]
    }
   ],
   "source": [
    "# solution"
   ]
  },
  {
   "cell_type": "markdown",
   "metadata": {},
   "source": [
    "## Exercise 1"
   ]
  },
  {
   "cell_type": "markdown",
   "metadata": {},
   "source": [
    "#### Generators and decorators"
   ]
  },
  {
   "cell_type": "markdown",
   "metadata": {},
   "source": [
    "#### 1.1\n",
    "\n",
    "rubric={accuracy:2, quality:1}"
   ]
  },
  {
   "cell_type": "markdown",
   "metadata": {},
   "source": [
    "Write a **decorator** to measure the time it takes to run a given function. In this exercise -\n",
    "\n",
    "- The execution_time variable is calculated by subtracting start_time from end_time, representing the elapsed time.  \n",
    "- The execution time is printed to the console, indicating which function was measured and how long it took. This is done using the format string f\"Function {func.__name__} took {execution_time:.4f} seconds to execute\". The .4f format specifier ensures four decimal places for execution time.  \n",
    "- Finally, the original function result is returned.  \n",
    "\n",
    "The @execution_time syntax is used to apply the execution_time decorator to the calculate_multiply function. This indicates that it should be decorated with the functionality provided by the execution_time function."
   ]
  },
  {
   "cell_type": "code",
   "execution_count": 10,
   "metadata": {},
   "outputs": [],
   "source": [
    "import time\n",
    "\n",
    "def execution_time(func):\n",
    "    def wrapper(*args, **kwargs):\n",
    "        # YOUR CODE HERE\n",
    "        # your_time = time.time()\n",
    "        # 1. measure start time\n",
    "        # 2. get a `result`` by running `func(*args, **kwargs)`\n",
    "        # 3. measure end time\n",
    "        # 4. run_time =  end - start; print `run_time`\n",
    "        return result\n",
    ".   return wapper"
   ]
  },
  {
   "cell_type": "code",
   "execution_count": 26,
   "metadata": {},
   "outputs": [
    {
     "name": "stdout",
     "output_type": "stream",
     "text": [
      "Function calculate_multiply took 0.0000 seconds to execute\n",
      "Result: 120\n"
     ]
    }
   ],
   "source": [
    "# Example usage\n",
    "@execution_time\n",
    "def calculate_multiply(numbers):\n",
    "    total = 1\n",
    "    for x in numbers:\n",
    "        total *= x\n",
    "    return total\n",
    "\n",
    "# Call the decorated function\n",
    "result = calculate_multiply([1, 2, 3, 4, 5])\n",
    "print(\"Result:\", result)"
   ]
  },
  {
   "cell_type": "markdown",
   "metadata": {},
   "source": [
    "#### 1.2\n",
    "\n",
    "{reasoning: 2}"
   ]
  },
  {
   "cell_type": "markdown",
   "metadata": {},
   "source": [
    "What is the advantanges of a Python generator?"
   ]
  },
  {
   "cell_type": "markdown",
   "metadata": {},
   "source": [
    "YOUR ANSWER HERE. "
   ]
  },
  {
   "cell_type": "markdown",
   "metadata": {},
   "source": [
    "## Exercise 2"
   ]
  },
  {
   "cell_type": "markdown",
   "metadata": {},
   "source": [
    "Parallel programming"
   ]
  },
  {
   "cell_type": "markdown",
   "metadata": {},
   "source": [
    "#### 2.1\n",
    "\n",
    "rubric={accuracy:2,quality:1}"
   ]
  },
  {
   "cell_type": "markdown",
   "metadata": {},
   "source": [
    "Use `map`, `filter` and `reduce` to calculate the sum of squares of even numbers in a list.\n",
    "Note. This exercise can be completed with one line of code but this is not required. "
   ]
  },
  {
   "cell_type": "code",
   "execution_count": 13,
   "metadata": {},
   "outputs": [],
   "source": [
    "from functools import reduce\n",
    "# Input\n",
    "numbers = [1, 2, 3, 4, 5, 6]\n",
    "\n",
    "# Your code here\n",
    "#   1. `filter` : filter even number\n",
    "#   2. `map`    : get squares of them\n",
    "#   3. `reduce` : sum the list\n",
    "\n",
    "# filter(function: %2, iterables: numbers)\n",
    "# map(function: x^2, iterables: filtered numbers)\n",
    "# reduce(function: sum, e.g. x+y,  iterables: map)\n",
    "\n",
    "# Expected Output\n",
    "# 56"
   ]
  },
  {
   "cell_type": "markdown",
   "metadata": {},
   "source": [
    "#### 2.2\n",
    "\n",
    "rubric={accuracy:4,quality:2}"
   ]
  },
  {
   "cell_type": "markdown",
   "metadata": {},
   "source": [
    "Given a list of vector pairs, each represented as a tuple of two longer vectors (tuples), calculate the dot product for each pair and then calculate the sum of these dot products using  `map` and `reduce`.\n",
    "\n",
    "A dot product, also known as the inner product, is a mathematical operation that takes two vectors and returns a scalar value. In the context of this exercise, we calculate the dot product for each pair of vectors in the vector_pairs list. The dot product of two vectors, A and B, is calculated as follows:\n",
    "\n",
    "1. Pairwise multiplication: Multiply the corresponding components (elements) of the two vectors. For example, for vectors A and B with elements A[0], A[1], A[2], ..., A[n] and B[0], B[1], B[2], ..., B[n], calculate A[0] * B[0], A[1] * B[1], A[2] * B[2], and so on.\n",
    "\n",
    "2. Summation: Add up all the results from step 1 to obtain the dot product.\n",
    "\n",
    "Please implement the dot product yourself without using `numpy`."
   ]
  },
  {
   "cell_type": "code",
   "execution_count": 15,
   "metadata": {},
   "outputs": [],
   "source": [
    "from functools import reduce\n",
    "\n",
    "# # Input: List of vector pairs, each pair represented as a tuple of two longer vectors (tuples). You need to calculate the dot product for each tuple of vectors\n",
    "# # Example: dot_product(vector_pair[0]) should return the dot product beween two vectors in the same tuple ((2, 3, 1, 5, 2, 4), (4, -1, 2, 0, 3, 1)).\n",
    "vector_pairs = [\n",
    "    ((2, 3, 1, 5, 2, 4), (4, -1, 2, 0, 3, 1)),\n",
    "    ((0, 5, -3, 2, 1, 2), (1, 2, 3, 6, 7, 1)),\n",
    "    ((-1, 0, 2, 1, 3, -4, 0, 2), (5, 2, -1, 3, -1, 0, 2, 1)),\n",
    "    ((2, 4, 3, 7, -1, 0, 6, 5), (1, 1, 1, 0, 0, 1, 1, -1)),\n",
    "    ((3, 1, -2, -1, 1, 0, -3, 4), (2, -3, 0, 2, 1, -1, 0, 2)),\n",
    "    ((-2, 0, -1, 2, 2, 2, 1, 3), (0, 1, 2, -3, 4, 2, -1, 2)),\n",
    "    ((1, 3, 5, 2, 4, 0, 1, 3), (0, -1, 2, -1, 0, 0, 4, 3)),\n",
    "    ((2, 2, -1, 1, 0, 1, -3, -1), (-2, 1, -2, -1, 0, -1, -3, 2)),\n",
    "    ((-2, -1, -1, 0, 2, -3, 1, 3), (0, 0, 1, 2, 1, -2, -1, 1)),\n",
    "    ((-1, 2, 0, -3, -2, 1, 2, 0), (-1, -2, -1, -2, 0, 1, 0, 1)),\n",
    "    ((3, 1, 3, -1, -2, -2, 2, 3), (1, 0, -2, 3, 1, -2, 0, 0)),\n",
    "    ((-1, 0, -3, -2, 1, -1, 0, -2), (-3, -1, 1, 1, 1, 1, 0, -2)),\n",
    "    ((2, -2, -1, 0, 1, 1, 2, 0), (1, -2, 2, 0, -2, -3, -1, -2)),\n",
    "    ((0, 1, 1, 2, -1, 3, 1, -2), (2, -2, -2, -1, 0, -1, 2, 0)),\n",
    "    ((-2, -1, 1, 0, 0, 2, 0, -3), (2, 0, 3, -1, 1, 2, 2, 1)),\n",
    "    ((-2, 0, 2, 2, 2, 3, 0, -1), (-1, -3, 1, -2, 2, 0, 2, -1)),\n",
    "    ((1, -3, -2, -2, -1, 1, -1, 2), (1, 0, 3, 2, -2, -3, -1, 1)),\n",
    "    ((-1, 0, -1, -3, -1, 2, -2, -2), (-2, -1, -3, -2, 0, 0, -1, 1)),\n",
    "    ((3, -2, 1, -2, -1, 2, 1, 2), (-3, 1, -2, 2, -1, 0, 0, 0)),\n",
    "    ((2, -3, -3, -1, -2, -3, 2, -1), (1, -1, -1, 0, -3, 1, -2, 2))\n",
    "]\n",
    "\n",
    "# Define a function to calculate the dot product of two vectors\n",
    "def dot_product(vector1, vector2):\n",
    "    # YOUR CODE HERE (you need to use map-reduce here; if you solution does not use map-reduce, you lose 1 point)\n",
    "\n",
    "# Use map to calculate dot products for each vector pair\n",
    "dot_products = # YOUR CODE HERE (hint: use map)\n",
    "\n",
    "# Use reduce to calculate the total dot product of all vector pairs\n",
    "total_dot_product = # YOUR CODE HERE (hint: use reduce)\n",
    "\n",
    "# Output the total dot product\n",
    "print(\"Total Dot Product:\", total_dot_product)\n"
   ]
  },
  {
   "cell_type": "code",
   "execution_count": 27,
   "metadata": {},
   "outputs": [
    {
     "name": "stdout",
     "output_type": "stream",
     "text": [
      "(2, 3, 1, 5, 2, 4)\n",
      "(4, -1, 2, 0, 3, 1)\n",
      "[8, -3, 2, 0, 6, 4]\n",
      "17\n"
     ]
    },
    {
     "data": {
      "text/plain": [
       "17"
      ]
     },
     "execution_count": 27,
     "metadata": {},
     "output_type": "execute_result"
    }
   ],
   "source": [
    "# # Define a function to calculate the dot product of two vectors\n",
    "# def dot_product(vector1, vector2):\n",
    "#     # YOUR CODE HERE (you need to use map-reduce here; if you solution does not use map-reduce, you lose 1 point)\n",
    "\n",
    "# THIS IS NOT A SOLUTION with map-reduec:\n",
    "def dot_product(vector1, vector2):\n",
    "    result = []\n",
    "    for x, y in zip(vector1, vector2):\n",
    "        result.append(x*y)\n",
    "    print(result)\n",
    "    print(sum(result))\n",
    "    return sum(result)\n",
    "\n",
    "# dot_product()\n",
    "vector1 = vector_pairs[0][0]\n",
    "vector2 = vector_pairs[0][1]\n",
    "print(vector1)\n",
    "print(vector2)\n",
    "\n",
    "dot_product(vector1, vector2)"
   ]
  },
  {
   "cell_type": "code",
   "execution_count": 17,
   "metadata": {},
   "outputs": [],
   "source": [
    "# Then, \n",
    "\n",
    "# your `map` for dot_product, \n",
    "# function:  a product of  two vectors at ith; \n",
    "# iterables: two vectors\n",
    "\n",
    "# since you need to `sum` during `reduce`, it would be better that you return `sum` of the current dot_product result during `map`;\n",
    "\n",
    "# your `reduce` for dot_product:\n",
    "# function:  a sum\n",
    "# iterables: your map results"
   ]
  },
  {
   "cell_type": "markdown",
   "metadata": {},
   "source": [
    "#### 2.3\n",
    "\n",
    "rubric={accuracy:4,quality:2}"
   ]
  },
  {
   "cell_type": "markdown",
   "metadata": {},
   "source": [
    "In this exercise, you will create a frequency table of words from a list of words.\n",
    "\n",
    "You are given a sequential implementation of word counting functions. Please implement a parallized program doing the same word counting.\n",
    "\n",
    "You can't use external libraries like `collections.Counter` to count. You must implement the dictionary yourself. "
   ]
  },
  {
   "cell_type": "code",
   "execution_count": 19,
   "metadata": {},
   "outputs": [
    {
     "name": "stderr",
     "output_type": "stream",
     "text": [
      "[nltk_data] Downloading package gutenberg to\n",
      "[nltk_data]     /Users/jungyeul/nltk_data...\n",
      "[nltk_data]   Package gutenberg is already up-to-date!\n"
     ]
    },
    {
     "data": {
      "text/plain": [
       "True"
      ]
     },
     "execution_count": 19,
     "metadata": {},
     "output_type": "execute_result"
    }
   ],
   "source": [
    "# import nltk and load ata\n",
    "import nltk\n",
    "from toolz import reduce\n",
    "nltk.download('gutenberg')\n"
   ]
  },
  {
   "cell_type": "code",
   "execution_count": 28,
   "metadata": {},
   "outputs": [
    {
     "data": {
      "text/plain": [
       "['[', 'Emma', 'by', 'Jane', 'Austen', '1816', ']', ...]"
      ]
     },
     "execution_count": 28,
     "metadata": {},
     "output_type": "execute_result"
    }
   ],
   "source": [
    "# load a word list\n",
    "emma = nltk.corpus.gutenberg.words('austen-emma.txt')\n",
    "emma"
   ]
  },
  {
   "cell_type": "code",
   "execution_count": 47,
   "metadata": {},
   "outputs": [
    {
     "name": "stdout",
     "output_type": "stream",
     "text": [
      "a 1\n",
      "('a', 1)\n",
      "b 1\n",
      "('b', 1)\n",
      "c 1\n",
      "('c', 1)\n",
      "a 1\n",
      "('a', 1)\n",
      "a 1\n",
      "('a', 1)\n",
      "{'a': 3, 'b': 1, 'c': 1}\n"
     ]
    }
   ],
   "source": [
    "import time\n",
    "\n",
    "# Sample list of words\n",
    "# word_list = emma[:10]\n",
    "word_list = ['a', 'b', 'c', 'a', 'a']\n",
    "\n",
    "# Map function: convert words to (word, 1) pairs\n",
    "def map_function(word):\n",
    "    # time.sleep(0.5)\n",
    "    print(word, 1)\n",
    "    return (word, 1)\n",
    "\n",
    "# Reduce function: sum the counts for each word\n",
    "def reduce_function(counts, word_count):\n",
    "    # time.sleep(0.5)\n",
    "    # `counts` = {};\n",
    "    # `word_count` = item in mapped: (word, 1)\n",
    "    print(word_count)\n",
    "    word, count = word_count\n",
    "    if word in counts:\n",
    "        counts[word] += count\n",
    "    else:\n",
    "        counts[word] = count\n",
    "    return counts\n",
    "\n",
    "# Map step: Apply map_function to each word in the list\n",
    "mapped = map(map_function, word_list)\n",
    "\n",
    "# Reduce step: Apply reduce_function to calculate word frequencies\n",
    "word_frequencies = reduce(reduce_function, mapped, {})\n",
    "\n",
    "print(word_frequencies)\n",
    "# # this program may take 3~5 minutes to run\n"
   ]
  },
  {
   "cell_type": "code",
   "execution_count": 22,
   "metadata": {},
   "outputs": [],
   "source": [
    "import multiprocessing\n",
    "import time\n",
    "from functools import reduce\n",
    "\n",
    "\n",
    "# Map function: convert words to (word, 1) pairs\n",
    "def map_function_parallel(word):\n",
    "    time.sleep(0.5)\n",
    "    # YOUR CODE HERE\n",
    "    # SHOULD BE same as before;\n",
    "\n",
    "# Reduce function: sum the counts for each word\n",
    "def reduce_function_parallel(counts, word_count):\n",
    "    time.sleep(0.5)\n",
    "    # YOUR CODE HERE\n",
    "    # SHOULD BE same as before; \n",
    "\n",
    "# Parallel Map function: Apply map_function to each word in the list using multiple processes\n",
    "def parallel_map(word_list, num_processes):\n",
    "\n",
    "    with multiprocessing.Pool(processes=num_processes) as P:\n",
    "        # YOUR CODE HERE\n",
    "        # mapped = P.map(...)\n",
    "        #   function    : ? \n",
    "        #   iterables   : ?\n",
    "\n",
    "    return mapped\n",
    "\n",
    "# Parallel Reduce function: Apply reduce_function to calculate word frequencies using multiple processes\n",
    "def reduce_worker(chunk):\n",
    "    return reduce(reduce_function_parallel, chunk, {})\n",
    "\n",
    "# aggregate results produced by parallel reduce processes\n",
    "def aggregate_function(agg,result):\n",
    "    # YOUR CODE HERE\n",
    "    # SHOULD be similar to `reduce_function`"
   ]
  },
  {
   "cell_type": "markdown",
   "metadata": {},
   "source": [
    "Please verify your implementation by running the following blocks."
   ]
  },
  {
   "cell_type": "code",
   "execution_count": 24,
   "metadata": {},
   "outputs": [
    {
     "name": "stdout",
     "output_type": "stream",
     "text": [
      "Sequential Word Frequencies: {'[': 1, 'Emma': 1, 'by': 1, 'Jane': 1, 'Austen': 1, '1816': 1, ']': 1, 'VOLUME': 1, 'I': 1, 'CHAPTER': 1}\n",
      "Parallel Word Frequencies: {'[': 1, 'Emma': 1, 'by': 1, 'Jane': 1, 'Austen': 1, '1816': 1, ']': 1, 'VOLUME': 1, 'I': 1, 'CHAPTER': 1}\n",
      "Sequential Time: 0.00010991096496582031 seconds\n",
      "Parallel Time: 2.1481637954711914 seconds\n"
     ]
    }
   ],
   "source": [
    "num_processes = multiprocess.cpu_count()  # Adjust the number of processes as needed\n",
    "\n",
    "# Sample list of words\n",
    "word_list = emma[:10]  # Make the list larger for comparison\n",
    "\n",
    "# Calculate word frequencies using parallel map and reduce\n",
    "start_time_parallel = time.time()\n",
    "mapped = parallel_map(word_list, num_processes) # create a list of (word,1) pairs\n",
    "chunks = [mapped[i:i + len(mapped)//num_processes] for i in range(0, len(mapped), len(mapped)//num_processes)] # break word list into chunks for parallel processing\n",
    "\n",
    "# perform reduce across multiple cores\n",
    "with multiprocess.Pool(processes=num_processes) as P:\n",
    "    results = P.map(reduce_worker,chunks)\n",
    "\n",
    "# aggregate results - no need to parallelize this part\n",
    "word_frequencies_parallel = reduce(aggregate_function, results, {})\n",
    "parallel_time = time.time() - start_time_parallel\n",
    "\n",
    "\n",
    "\n",
    "# Calculate word frequencies sequentially (for comparison)\n",
    "start_time_sequential = time.time()\n",
    "mapped = map(map_function, word_list)\n",
    "word_frequencies_sequential = reduce(reduce_function, mapped, {})\n",
    "sequential_time = time.time() - start_time_sequential\n",
    "\n",
    "print(\"Sequential Word Frequencies:\", word_frequencies_sequential)\n",
    "print(\"Parallel Word Frequencies:\", word_frequencies_parallel)\n",
    "\n",
    "print(\"Sequential Time:\", sequential_time, \"seconds\")\n",
    "print(\"Parallel Time:\", parallel_time, \"seconds\")\n"
   ]
  },
  {
   "cell_type": "markdown",
   "metadata": {},
   "source": [
    "### Optional"
   ]
  },
  {
   "cell_type": "markdown",
   "metadata": {},
   "source": []
  },
  {
   "cell_type": "markdown",
   "metadata": {},
   "source": [
    "#### 2.4\n",
    "\n",
    "{reasoning: 3}"
   ]
  },
  {
   "cell_type": "markdown",
   "metadata": {},
   "source": [
    "Is a parallelized program always faster than a non-parallelized ones?\n",
    "What are the factors we need to consider before parallizing our programs? (Name at least two) "
   ]
  },
  {
   "cell_type": "markdown",
   "metadata": {},
   "source": [
    "YOUR ANSWER HERE"
   ]
  }
 ],
 "metadata": {
  "kernelspec": {
   "display_name": "py10",
   "language": "python",
   "name": "python3"
  },
  "language_info": {
   "codemirror_mode": {
    "name": "ipython",
    "version": 3
   },
   "file_extension": ".py",
   "mimetype": "text/x-python",
   "name": "python",
   "nbconvert_exporter": "python",
   "pygments_lexer": "ipython3",
   "version": "3.9.6"
  },
  "orig_nbformat": 4
 },
 "nbformat": 4,
 "nbformat_minor": 2
}
