{
 "cells": [
  {
   "cell_type": "markdown",
   "metadata": {},
   "source": [
    "# DSCI 512 Lab 4: Graphs and Matrices (Cheat sheet)"
   ]
  },
  {
   "cell_type": "markdown",
   "metadata": {},
   "source": [
    "### Instructions\n",
    "rubric={mechanics:3}\n",
    "\n",
    "Follow the [general lab instructions](https://ubc-mds.github.io/resources_pages/general_lab_instructions/)."
   ]
  },
  {
   "cell_type": "markdown",
   "metadata": {},
   "source": [
    "For T.6 you will need the NLTK package (if you don't have it already) as well as an NLTK corpus, which you can download using the code below"
   ]
  },
  {
   "cell_type": "code",
   "execution_count": 2,
   "metadata": {},
   "outputs": [
    {
     "name": "stderr",
     "output_type": "stream",
     "text": [
      "[nltk_data] Downloading package movie_reviews to\n",
      "[nltk_data]     /Users/jungyeul/nltk_data...\n",
      "[nltk_data]   Package movie_reviews is already up-to-date!\n"
     ]
    },
    {
     "data": {
      "text/plain": [
       "True"
      ]
     },
     "execution_count": 2,
     "metadata": {},
     "output_type": "execute_result"
    }
   ],
   "source": [
    "#provided code\n",
    "#!python3 -m pip install nltk\n",
    "\n",
    "import nltk\n",
    "nltk.download(\"movie_reviews\")"
   ]
  },
  {
   "cell_type": "markdown",
   "metadata": {},
   "source": [
    "Packages and libraries that you may want to import for this lab:"
   ]
  },
  {
   "cell_type": "code",
   "execution_count": 3,
   "metadata": {},
   "outputs": [],
   "source": [
    "#provided code\n",
    "import networkx as nx\n",
    "import matplotlib.pyplot as plt\n",
    "%matplotlib inline\n",
    "import altair as alt\n",
    "import numpy as np\n",
    "import pandas as pd\n",
    "from nltk.corpus import movie_reviews\n",
    "from sklearn.feature_extraction import DictVectorizer"
   ]
  },
  {
   "cell_type": "markdown",
   "metadata": {},
   "source": [
    "## Exercise T.5:  Degrees of separation (Lecture 5 Teamwork) \n",
    "rubric={accuracy:3,quality:1}\n",
    "\n",
    "Write a function `distance_BFS` that takes in a NetworkX `Graph` and two nodes, and uses *breath*-first search (BFS) to compute the degrees of separation between the two nodes. If the two nodes are not connected, you should return *-1*. You can adapt relevent code from lecture, but you can't use any  built-in NetworkX functions other than `neighbors`.\n",
    "\n",
    "Then, create a good test suite for your function. As part of this, you should build a new *directed* graph that has properties appropriate to your tests. Print out a copy of the graph so it is easy to eyeball that your results are correct."
   ]
  },
  {
   "cell_type": "code",
   "execution_count": 6,
   "metadata": {},
   "outputs": [],
   "source": [
    "def distance_BFS(g, node1, node2):\n",
    "    # your code here \n",
    "    \"\"\" \n",
    "    Given a NetworkX Graph g, and start node node1 \n",
    "    and goal node node2, distance_BFS returns the\n",
    "    degree of separation between node1 and node2. \n",
    "    If they are not connected, returns -1.\n",
    "    \n",
    "    Arguments\n",
    "    g -- (networkx.classes.graph.Graph) the graph\n",
    "    node1 -- (str) first node\n",
    "    node2 -- (str) second node\n",
    "    \"\"\"\n",
    "    # your code here\n",
    "\n",
    "    # put (push) the node1 into a queue\n",
    "    # you also need a `visited` as `set()`\n"
   ]
  },
  {
   "cell_type": "code",
   "execution_count": 4,
   "metadata": {},
   "outputs": [
    {
     "data": {
      "image/png": "[encoded data removed]",
      "text/plain": [
       "<Figure size 640x480 with 1 Axes>"
      ]
     },
     "metadata": {},
     "output_type": "display_data"
    }
   ],
   "source": [
    "# build your graph here and print it out\n",
    "# your code here\n",
    "dg = nx.DiGraph()\n",
    "\n",
    "dg.add_node(\"A\")\n",
    "dg.add_node(\"B\")\n",
    "\n",
    "dg.add_edge(\"A\", \"B\") # A --> B\n",
    "\n",
    "# ...\n",
    "# your code here\n",
    "nx.draw(dg, with_labels=True, arrowsize=10)"
   ]
  },
  {
   "cell_type": "code",
   "execution_count": 8,
   "metadata": {},
   "outputs": [
    {
     "name": "stdout",
     "output_type": "stream",
     "text": [
      "Success!\n"
     ]
    }
   ],
   "source": [
    "# tests here\n",
    "# your code here\n",
    "assert(distance_BFS(dg,\"A\",\"B\")) == 1 # immediate neighbour\n",
    "\n",
    "# ...\n",
    "print(\"Success!\")\n",
    "# your code here"
   ]
  },
  {
   "cell_type": "code",
   "execution_count": 6,
   "metadata": {},
   "outputs": [
    {
     "name": "stdout",
     "output_type": "stream",
     "text": [
      "1\n",
      "[2]\n",
      "2\n",
      "[1]\n"
     ]
    }
   ],
   "source": [
    "queue = [1,2]\n",
    "\n",
    "print(queue.pop(0))\n",
    "print(queue)\n",
    "\n",
    "stack = [1,2]\n",
    "\n",
    "print(stack.pop(-1))\n",
    "print(stack)"
   ]
  },
  {
   "cell_type": "markdown",
   "metadata": {},
   "source": [
    "## Exercise T.6: Sparse bigram matrices (Lecture 6 teamwork)\n",
    "rubric={accuracy:3,efficiency:1,reasoning:1}"
   ]
  },
  {
   "cell_type": "markdown",
   "metadata": {},
   "source": [
    "Use sklearn's `DictVectorizer` to create a sparse matrix where the rows correspond to sentences in a corpus of movie reviews (`movie_reviews`) found in the NLTK package, and the columns correspond to counts of lower-cased *bigrams* in that sentence, i.e. pairs of contiguous words (the bigrams for this sentence are \"create a\", \"a sparse\", \"spare matrix\", ...). After you have created the matrix, use it directly to extract the the following pieces of information:\n",
    "- How many different kinds of bigrams are there (i.e. how many columns does the matrix have)?\n",
    "- How many sentences does the bigram \"the movie\" appear in?\n",
    "- How many non-zero elements of the matrix are there?\n",
    "- What is the ratio of memory used for this sparse matrix as compared to a dense version which explicitly represents zeros?\n",
    "\n",
    "For the last part, please briefly explain the reasoning for your calcuation!\n",
    "\n",
    "The code for looping through the sentences is provided, each sentence is a list of strings corresponding to the words of the sentence"
   ]
  },
  {
   "cell_type": "code",
   "execution_count": 13,
   "metadata": {},
   "outputs": [
    {
     "name": "stdout",
     "output_type": "stream",
     "text": [
      "(65258, 448707)\n",
      "1500151\n"
     ]
    }
   ],
   "source": [
    "# #your code here\n",
    "\n",
    "# #your code here\n",
    "\n",
    "# for sentence in movie_reviews.sents():\n",
    "#     # your code here\n",
    "#     # 1. convert a sentence into the list of lower(): [w_0, w_1, ...., w_n-1, w_n]\n",
    "#     # 2. make a bigram tuple (w_0,w_1), ... (w_n-1,w_n), and put them in a dict: `{'foo': 1, 'bar': 2}` (see below)\n",
    "#     # 3. append dict to a list: `D`\n",
    "\n",
    "# # your code here\n",
    "# # DictVectorizer()\n",
    "# # print `shape`\n",
    "# # print number of nonzero values (`nnz`)"
   ]
  },
  {
   "cell_type": "code",
   "execution_count": 12,
   "metadata": {},
   "outputs": [
    {
     "name": "stdout",
     "output_type": "stream",
     "text": [
      "bar, baz, foo:\n",
      "[[2. 0. 1.]\n",
      " [0. 1. 3.]]\n",
      "(2, 3)\n"
     ]
    }
   ],
   "source": [
    "# copied from https://scikit-learn.org/stable/modules/generated/sklearn.feature_extraction.DictVectorizer.html\n",
    "\n",
    "from sklearn.feature_extraction import DictVectorizer\n",
    "v = DictVectorizer(sparse=False)\n",
    "D = [{'foo': 1, 'bar': 2}, {'foo': 3, 'baz': 1}]\n",
    "#      |-- dict for sent0,   |-- dict for sent1 .... \n",
    "X = v.fit_transform(D)\n",
    "print('bar, baz, foo:')\n",
    "print(X)\n",
    "print(X.shape)\n",
    "# print(X.nnz) # it works without `sparse=False`"
   ]
  },
  {
   "cell_type": "markdown",
   "metadata": {},
   "source": [
    "Answer:\n",
    "\n"
   ]
  },
  {
   "cell_type": "markdown",
   "metadata": {
    "toc-hr-collapsed": true,
    "toc-nb-collapsed": true
   },
   "source": [
    "## Exercise 1: The Romeo and Juliet graph\n",
    "\n",
    "A graph or network represents relationships among things. The things are represented as _vertices_ (aka _nodes_), and the relationships are represented as _edges_.\n",
    "\n",
    "The graph below represents the social network in Romeo & Juliet.\n",
    "\n",
    "![](romeoandjulietundirected.png)\n",
    "\n",
    "An edge between person A and person B means that A considers B a friend, and also B considers A a friend.\n",
    "\n",
    "In the image above, ignore the gray background and the labels for the families (\"houses\"); those are there just to help you interpret the graph but are not part of the social network itself.\n",
    "\n",
    "One interesting measure in a social network graph is the \"distance\" or number of \"degrees of separation\" between two people. This notion is used in academic research via the [Erdős number](https://en.wikipedia.org/wiki/Erd%C5%91s_number) and in the film industry via the [Bacon number](https://en.wikipedia.org/wiki/Six_Degrees_of_Kevin_Bacon#Bacon_numbers). For example, in the above graph, the distance between Juliet and Romeo is 1, and the distance between Juliet and Paris is 2 (via Capulet).\n",
    "\n",
    "The code below creates a graph named `rj` corresponding to the Romeo and Juliet graph above (ignoring the shaded family/house information)."
   ]
  },
  {
   "cell_type": "code",
   "execution_count": 17,
   "metadata": {},
   "outputs": [
    {
     "data": {
      "image/png": "[encoded data removed]",
      "text/plain": [
       "<Figure size 640x480 with 1 Axes>"
      ]
     },
     "metadata": {},
     "output_type": "display_data"
    }
   ],
   "source": [
    "#provided code\n",
    "rj = nx.Graph()\n",
    "rj.add_nodes_from(['Nurse', \n",
    "                   # House of Capulet\n",
    "                   'Juliet', 'Tybalt', 'Capulet',\n",
    "                   \n",
    "                   'Friar Laurence', \n",
    "                   \n",
    "                   # House Montague\n",
    "                   'Romeo', 'Benvolio', 'Montague',\n",
    "                   \n",
    "                   # Ruling house of Verona\n",
    "                   'Escalus', 'Mercutio', 'Paris'\n",
    "                  ])\n",
    "\n",
    "rj.add_edges_from([('Juliet', 'Nurse'),\n",
    "                   ('Juliet', 'Tybalt'),\n",
    "                   ('Juliet', 'Capulet'),                   \n",
    "                   ('Juliet', 'Friar Laurence'),\n",
    "                   ('Juliet', 'Romeo'),\n",
    "                   \n",
    "                   ('Capulet', 'Tybalt'),                                      \n",
    "                   ('Capulet', 'Escalus'),\n",
    "                   ('Capulet', 'Paris'),                   \n",
    "                   \n",
    "                   ('Romeo', 'Friar Laurence'),\n",
    "                   ('Romeo', 'Benvolio'),\n",
    "                   ('Romeo', 'Montague'),\n",
    "                   ('Romeo', 'Mercutio'),                   \n",
    "                   \n",
    "                   ('Montague', 'Benvolio'),\n",
    "                   ('Montague', 'Escalus'),                   \n",
    "\n",
    "                   ('Escalus', 'Mercutio'),\n",
    "                   ('Escalus', 'Paris'),\n",
    "                   ('Paris', 'Mercutio')\n",
    "                  ])\n",
    "\n",
    "nx.draw(rj, with_labels=True)"
   ]
  },
  {
   "cell_type": "markdown",
   "metadata": {},
   "source": [
    "#### 1(a)\n",
    "rubric={accuracy:2,efficiency:1}\n",
    "\n",
    "Write a function `highest_degree` that takes in a graph and finds the vertex/vertices with the highest degree - in other words, the person with the largest number of friends. Your function should return a tuple with two elements:\n",
    "\n",
    "1. The maximum degree (int)\n",
    "2. All the nodes with that degree (set)"
   ]
  },
  {
   "cell_type": "markdown",
   "metadata": {},
   "source": [
    "Note: you can find the degree of a vertex using the following syntax:"
   ]
  },
  {
   "cell_type": "code",
   "execution_count": 63,
   "metadata": {},
   "outputs": [
    {
     "name": "stdout",
     "output_type": "stream",
     "text": [
      "3\n",
      "5\n",
      "1\n"
     ]
    }
   ],
   "source": [
    "# provided code\n",
    "print(nx.degree(rj, \"Paris\"))\n",
    "print(nx.degree(rj, \"Juliet\"))\n",
    "print(nx.degree(rj, \"Nurse\"))"
   ]
  },
  {
   "cell_type": "code",
   "execution_count": 68,
   "metadata": {},
   "outputs": [],
   "source": [
    "def highest_degree(G):\n",
    "    \"\"\"\n",
    "    Finds the vertices with the highest degree in the graph G.\n",
    "    Returns a tuple (max_degree, {nodes with that degree})\n",
    "    \"\"\"\n",
    "    # your code here \n",
    "    # ...\n",
    "    for node in G.nodes():\n",
    "        degree = nx.degree(G, node)    \n",
    "        # if degree > max_degree, ... \n"
   ]
  },
  {
   "cell_type": "code",
   "execution_count": 69,
   "metadata": {},
   "outputs": [
    {
     "name": "stdout",
     "output_type": "stream",
     "text": [
      "{'Romeo', 'Juliet'}\n",
      "Success!\n"
     ]
    }
   ],
   "source": [
    "max_degree, nodes = highest_degree(rj)\n",
    "print(nodes)\n",
    "assert nodes == {\"Romeo\", \"Juliet\"}\n",
    "assert max_degree == 5\n",
    "print(\"Success!\")"
   ]
  },
  {
   "cell_type": "markdown",
   "metadata": {},
   "source": [
    "#### 1(b)\n",
    "rubric={accuracy:3,efficiency:1}\n",
    "\n",
    "Write a function `largest_distance` to find the pair(s) of vertices with the largest distance (degree of separation). Your function should return a tuple with two elements:\n",
    "\n",
    "1. The maximum distance (int)\n",
    "2. All the pairs of nodes with that distance (set of tuples)\n",
    "\n",
    "Note: do not include pairs twice. For example, if `('Romeo', 'Juliet')` is in the set, don't also include `('Juliet', 'Romeo')`.\n",
    "\n",
    "Note: you will find [`nx.shortest_path_length`](https://networkx.github.io/documentation/stable/reference/algorithms/generated/networkx.algorithms.shortest_paths.generic.shortest_path_length.html#networkx.algorithms.shortest_paths.generic.shortest_path_length) useful."
   ]
  },
  {
   "cell_type": "code",
   "execution_count": 15,
   "metadata": {},
   "outputs": [],
   "source": [
    "def largest_distance(G):\n",
    "    \"\"\"\n",
    "    Finds the pairs of vertices with the highest degree of separation in the graph G.\n",
    "    Returns a tuple (max_distance, {node pairs with that degree})\n",
    "    \"\"\"\n",
    "\n",
    "    # ...\n",
    "\n",
    "    return max_distance, max_vertex_pairs\n",
    "    #your code here\n"
   ]
  },
  {
   "cell_type": "code",
   "execution_count": 18,
   "metadata": {},
   "outputs": [
    {
     "name": "stdout",
     "output_type": "stream",
     "text": [
      "Success!\n",
      "{('Nurse', 'Montague'), ('Tybalt', 'Benvolio'), ('Nurse', 'Escalus'), ('Nurse', 'Mercutio'), ('Tybalt', 'Montague'), ('Friar Laurence', 'Escalus'), ('Benvolio', 'Paris'), ('Tybalt', 'Mercutio'), ('Nurse', 'Benvolio'), ('Friar Laurence', 'Paris'), ('Nurse', 'Paris'), ('Capulet', 'Benvolio')}\n"
     ]
    }
   ],
   "source": [
    "max_distance, pairs = largest_distance(rj)\n",
    "assert max_distance == 3\n",
    "assert len(pairs) == 12\n",
    "print(\"Success!\")\n",
    "print(pairs)"
   ]
  },
  {
   "cell_type": "markdown",
   "metadata": {
    "toc-hr-collapsed": true,
    "toc-nb-collapsed": true
   },
   "source": [
    "## Exercise 2: Using Facebook data\n",
    "\n",
    "We will use some Facebook data, which is the file `facebook-links.txt` in the [datasets repository](https://github.ubc.ca/MDS-2020-21/datasets). \n",
    "\n",
    "\n",
    "The `facebook-links.txt` file is courtesy of the Max Planck Institute for Software Systems. Here is a slightly clarified version of the documentation for this file:\n",
    "\n",
    "> File `facebook-links.txt` contains a list of all of the user-to-user links from the Facebook New Orleans networks. These links are undirected on Facebook.\n",
    ">\n",
    "> Format: Each line contains two numeric user identifiers, meaning the second user appeared in the first user's friend list, and the first user appeared in the second user's friend list. Finally, the third column is a UNIX timestamp with the time of link establishment (if it could be determined, otherwise it is '\\N'). Note: a Unix timestamp is the number of seconds since January 1, 1970. You may ignore it in this assignment. \n",
    "\n",
    "\n",
    "The code below creates a graph named facebook from the Facebook data in file `facebook-links.txt`. Please put `facebook-links.txt` outside your lab repo (don't submit it!) and modify the path appropriately. "
   ]
  },
  {
   "cell_type": "code",
   "execution_count": 20,
   "metadata": {},
   "outputs": [],
   "source": [
    "# !brew install wget \n",
    "# !wget https://raw.github.ubc.ca/mds-2021-22/datasets/master/data/facebook-links.txt?token=GHSAT0AAAAAAAAAB5MGIWX4TVP3OMPUT63WY27LKHA -O facebook-links.tx"
   ]
  },
  {
   "cell_type": "code",
   "execution_count": 23,
   "metadata": {},
   "outputs": [
    {
     "data": {
      "text/html": [
       "<div>\n",
       "<style scoped>\n",
       "    .dataframe tbody tr th:only-of-type {\n",
       "        vertical-align: middle;\n",
       "    }\n",
       "\n",
       "    .dataframe tbody tr th {\n",
       "        vertical-align: top;\n",
       "    }\n",
       "\n",
       "    .dataframe thead th {\n",
       "        text-align: right;\n",
       "    }\n",
       "</style>\n",
       "<table border=\"1\" class=\"dataframe\">\n",
       "  <thead>\n",
       "    <tr style=\"text-align: right;\">\n",
       "      <th></th>\n",
       "      <th>from</th>\n",
       "      <th>to</th>\n",
       "      <th>timestamp</th>\n",
       "    </tr>\n",
       "  </thead>\n",
       "  <tbody>\n",
       "    <tr>\n",
       "      <th>0</th>\n",
       "      <td>1</td>\n",
       "      <td>3</td>\n",
       "      <td>\\N</td>\n",
       "    </tr>\n",
       "    <tr>\n",
       "      <th>1</th>\n",
       "      <td>1</td>\n",
       "      <td>4</td>\n",
       "      <td>\\N</td>\n",
       "    </tr>\n",
       "    <tr>\n",
       "      <th>2</th>\n",
       "      <td>1</td>\n",
       "      <td>5</td>\n",
       "      <td>\\N</td>\n",
       "    </tr>\n",
       "    <tr>\n",
       "      <th>3</th>\n",
       "      <td>1</td>\n",
       "      <td>6</td>\n",
       "      <td>\\N</td>\n",
       "    </tr>\n",
       "    <tr>\n",
       "      <th>4</th>\n",
       "      <td>1</td>\n",
       "      <td>7</td>\n",
       "      <td>\\N</td>\n",
       "    </tr>\n",
       "  </tbody>\n",
       "</table>\n",
       "</div>"
      ],
      "text/plain": [
       "   from  to timestamp\n",
       "0     1   3        \\N\n",
       "1     1   4        \\N\n",
       "2     1   5        \\N\n",
       "3     1   6        \\N\n",
       "4     1   7        \\N"
      ]
     },
     "execution_count": 23,
     "metadata": {},
     "output_type": "execute_result"
    }
   ],
   "source": [
    "#provided code\n",
    "facebook_edges = pd.read_csv(\"facebook-links.txt\", sep='\\t')\n",
    "facebook_edges.columns = [\"from\", \"to\", \"timestamp\"]\n",
    "facebook_edges.head()"
   ]
  },
  {
   "cell_type": "code",
   "execution_count": 24,
   "metadata": {},
   "outputs": [],
   "source": [
    "#provided code\n",
    "facebook_graph = nx.convert_matrix.from_pandas_edgelist(facebook_edges, \"from\", \"to\")"
   ]
  },
  {
   "cell_type": "code",
   "execution_count": 25,
   "metadata": {},
   "outputs": [],
   "source": [
    "assert len(facebook_graph.nodes()) == 63731\n",
    "assert len(facebook_graph.edges()) == 817090\n"
   ]
  },
  {
   "cell_type": "markdown",
   "metadata": {},
   "source": [
    "#### 2(a)\n",
    "rubric={accuracy:1,viz:1,efficiency:1}\n",
    "\n",
    "Create a histogram of the node degrees in this graph. Make sure you use enough bins so you can see the general shape of things\n",
    "\n",
    "Note: the `networkx` library can get you the [adjacency matrix](https://networkx.github.io/documentation/stable/reference/generated/networkx.linalg.graphmatrix.adjacency_matrix.html) of the graph, which may be useful here.  You can use either Altair or Matplotlib for this."
   ]
  },
  {
   "cell_type": "code",
   "execution_count": 26,
   "metadata": {
    "scrolled": true
   },
   "outputs": [],
   "source": [
    "import matplotlib.pyplot as plt\n",
    "\n",
    "# adjacency_matrix = nx.adjacency_matrix(...)"
   ]
  },
  {
   "cell_type": "code",
   "execution_count": 27,
   "metadata": {},
   "outputs": [
    {
     "data": {
      "text/plain": [
       "(63731, 63731)"
      ]
     },
     "execution_count": 27,
     "metadata": {},
     "output_type": "execute_result"
    }
   ],
   "source": [
    "adjacency_matrix.shape"
   ]
  },
  {
   "cell_type": "code",
   "execution_count": 36,
   "metadata": {},
   "outputs": [
    {
     "data": {
      "image/png": "[encoded data removed]",
      "text/plain": [
       "<Figure size 640x480 with 1 Axes>"
      ]
     },
     "metadata": {},
     "output_type": "display_data"
    }
   ],
   "source": [
    "degrees = np.sum(...)\n",
    "plt.hist(degrees,bins=...)\n",
    "plt.xlim(...)\n",
    "plt.xlabel(\"degree\")\n",
    "plt.ylabel(\"count\")\n",
    "plt.show()"
   ]
  },
  {
   "cell_type": "markdown",
   "metadata": {},
   "source": [
    "#### 2(b)\n",
    "rubric={accuracy:1,efficiency:1}\n",
    "\n",
    "To summarize the histogram further, find the mean, median, and mode of the vertex degrees.\n",
    "\n",
    "**HINT**: If you haven't already, it is a good idea to create a numpy array containing the degree for each node. You may have to convert from a sparse matrix if you are starting from the adjacency matrix."
   ]
  },
  {
   "cell_type": "code",
   "execution_count": 26,
   "metadata": {},
   "outputs": [
    {
     "name": "stdout",
     "output_type": "stream",
     "text": [
      "mean\n",
      "25.641838351822503\n",
      "median\n",
      "10.0\n",
      "mode\n",
      "1\n"
     ]
    },
    {
     "name": "stderr",
     "output_type": "stream",
     "text": [
      "/var/folders/n9/3r6hrp015t9d1n6m8l36t0yh0000gn/T/ipykernel_43312/4012138328.py:9: FutureWarning: Unlike other reduction functions (e.g. `skew`, `kurtosis`), the default behavior of `mode` typically preserves the axis it acts along. In SciPy 1.11.0, this behavior will change: the default value of `keepdims` will become False, the `axis` over which the statistic is taken will be eliminated, and the value None will no longer be accepted. Set `keepdims` to True or False to avoid this warning.\n",
      "  print(mode(degrees).mode[0])\n"
     ]
    }
   ],
   "source": [
    "from scipy.stats import mode\n",
    "\n",
    "degrees = np.asarray(degrees).flatten()\n",
    "print(\"mean\")\n",
    "print(np.mean)\n",
    "print(\"median\")\n",
    "print(np.median)\n",
    "print(\"mode\")\n",
    "print(mode) # stats.mode"
   ]
  },
  {
   "cell_type": "markdown",
   "metadata": {},
   "source": [
    "#### 2(c) optional\n",
    "rubric={reasoning:1}\n",
    "\n",
    "Earlier you wrote the `largest_distance` function that computest the largest distance between any pair of nodes. The time complexity of this function is $O(V^2)$ if there are $V$ vertices; this is going to be too slow for the Facebook graph (you are welcome to try it...). Can you try to approximate/estimate what this largest distance among connected nodes might be? \n",
    "\n",
    "Note: there are a lot of ways to approach this question!"
   ]
  },
  {
   "cell_type": "code",
   "execution_count": 27,
   "metadata": {},
   "outputs": [
    {
     "name": "stdout",
     "output_type": "stream",
     "text": [
      "The maximum distance found is 9, with nodes [49823 57392]\n"
     ]
    }
   ],
   "source": [
    "# try taking a bunch of random pairs and computing their distance\n"
   ]
  },
  {
   "cell_type": "markdown",
   "metadata": {
    "toc-hr-collapsed": true,
    "toc-nb-collapsed": true
   },
   "source": [
    "## Exercise 3: Sparse graph representations"
   ]
  },
  {
   "cell_type": "markdown",
   "metadata": {},
   "source": [
    "#### 3(a)\n",
    "rubric={reasoning:1}\n",
    "\n",
    "What is the space complexity of an adjacency matrix stored as a dense matrix, as a function of the number of vertices $V$ and/or the number of edges $E$? "
   ]
  },
  {
   "cell_type": "markdown",
   "metadata": {},
   "source": [
    "Answer:\n"
   ]
  },
  {
   "cell_type": "markdown",
   "metadata": {},
   "source": [
    "#### 3(b)\n",
    "rubric={reasoning:1}\n",
    "\n",
    "According to the documentation, NetworkX returns the adjacency matrix as a SciPy sparse matrix. What is the space complexity of this sparse adjacency matrix, as a function of the number of vertices $V$ and/or the number of edges $E$? "
   ]
  },
  {
   "cell_type": "markdown",
   "metadata": {},
   "source": [
    "Answer:\n"
   ]
  },
  {
   "cell_type": "markdown",
   "metadata": {},
   "source": [
    "#### 3(c)\n",
    "rubric={reasoning:1}\n",
    "\n",
    "The code below measures the storage usage for the adjacency matrix of the Romeo and Juliet data. Are they what you expected, if each stored number takes up 8 bytes (64-bits)? "
   ]
  },
  {
   "cell_type": "code",
   "execution_count": 28,
   "metadata": {
    "scrolled": true
   },
   "outputs": [
    {
     "name": "stdout",
     "output_type": "stream",
     "text": [
      "Size of sparse matrix: 272 bytes\n",
      "Size of dense  matrix: 968 bytes\n"
     ]
    },
    {
     "name": "stderr",
     "output_type": "stream",
     "text": [
      "/var/folders/n9/3r6hrp015t9d1n6m8l36t0yh0000gn/T/ipykernel_43312/1786711826.py:2: FutureWarning: adjacency_matrix will return a scipy.sparse array instead of a matrix in Networkx 3.0.\n",
      "  sparse_matrix = nx.adjacency_matrix(rj)\n"
     ]
    }
   ],
   "source": [
    "#provided code\n",
    "sparse_matrix = nx.adjacency_matrix(rj)\n",
    "dense_matrix = sparse_matrix.toarray()\n",
    "\n",
    "print(\"Size of sparse matrix:\", sparse_matrix.data.nbytes, \"bytes\")\n",
    "\n",
    "print(\"Size of dense  matrix:\", dense_matrix.nbytes, \"bytes\")"
   ]
  },
  {
   "cell_type": "markdown",
   "metadata": {},
   "source": [
    "Answer:\n"
   ]
  },
  {
   "cell_type": "markdown",
   "metadata": {},
   "source": [
    "#### 3(d)\n",
    "rubric={reasoning:1}\n",
    "\n",
    "How many bytes do you think the dense form of the Facebook adjacency matrix would take, if each element takes 8 bytes? (If you try it, you may well run out of memory)."
   ]
  },
  {
   "cell_type": "markdown",
   "metadata": {},
   "source": [
    "Answer:\n"
   ]
  },
  {
   "cell_type": "code",
   "execution_count": 31,
   "metadata": {},
   "outputs": [
    {
     "data": {
      "text/plain": [
       "32493122888"
      ]
     },
     "execution_count": 31,
     "metadata": {},
     "output_type": "execute_result"
    }
   ],
   "source": []
  }
 ],
 "metadata": {
  "anaconda-cloud": {},
  "kernelspec": {
   "display_name": "Python 3.9.6 64-bit",
   "language": "python",
   "name": "python3"
  },
  "language_info": {
   "codemirror_mode": {
    "name": "ipython",
    "version": 3
   },
   "file_extension": ".py",
   "mimetype": "text/x-python",
   "name": "python",
   "nbconvert_exporter": "python",
   "pygments_lexer": "ipython3",
   "version": "3.9.6"
  },
  "vscode": {
   "interpreter": {
    "hash": "20bf69066c0dd38d51965b69d5e1b6e387082e3198ba56e97997ac55f4e50ad0"
   }
  }
 },
 "nbformat": 4,
 "nbformat_minor": 4
}
