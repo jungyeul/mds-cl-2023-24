{
 "cells": [
  {
   "cell_type": "code",
   "execution_count": 11,
   "metadata": {},
   "outputs": [],
   "source": [
    "from nltk.corpus import stopwords\n",
    "from nltk import word_tokenize\n",
    "\n",
    "stopwords = set(stopwords.words(\"english\"))"
   ]
  },
  {
   "cell_type": "code",
   "execution_count": 12,
   "metadata": {},
   "outputs": [
    {
     "name": "stdout",
     "output_type": "stream",
     "text": [
      "[('.', 154), ('hotel', 99), ('looking', 85), ('stay', 80), ('?', 68), ('place', 65), ('free', 63), (',', 57), (\"'m\", 52), ('find', 49), ('help', 38), ('parking', 34), ('need', 33), ('wifi', 31), ('hi', 28), ('guesthouse', 27), ('cambridge', 24), ('house', 22), ('star', 21), ('like', 19), ('called', 18), ('information', 18), ('please', 17), ('expensive', 17), ('include', 16), ('north', 14), ('cheap', 14), ('town', 14), ('includes', 11), ('would', 11), ('4', 11), ('hello', 11), ('guest', 11), ('east', 10), ('hotels', 9), ('price', 8), (\"'d\", 8), ('3', 8), ('rating', 8), ('bed', 7), ('breakfast', 7), ('moderately', 7), ('priced', 7), ('trip', 7), ('!', 7), (\"'s\", 7), ('want', 6), ('yes', 6), ('stars', 6), ('b', 6), ('book', 6), ('trying', 6), (\"n't\", 6), ('warkworth', 6), ('moderate', 5), ('know', 5), ('range', 5), ('side', 5), ('could', 5), ('get', 5)]\n",
      "[('.', 171), ('restaurant', 135), ('looking', 99), ('?', 73), ('centre', 59), ('food', 55), (\"'m\", 55), ('find', 54), ('place', 50), ('expensive', 49), (',', 46), ('eat', 35), ('town', 35), ('help', 34), ('serves', 33), ('like', 26), ('hi', 26), ('restaurants', 26), ('called', 25), ('need', 22), ('dine', 21), ('price', 18), ('indian', 18), ('cheap', 17), ('cambridge', 16), ('range', 16), ('information', 16), ('please', 16), ('hello', 15), (\"'d\", 14), ('chinese', 14), ('city', 13), ('east', 11), ('would', 11), ('moderate', 10), ('italian', 10), (\"'s\", 9), ('south', 9), ('british', 9), ('serve', 9), ('center', 8), ('european', 7), ('north', 7), ('want', 7), ('try', 7), ('one', 7), ('trying', 7), ('moderately', 7), ('priced', 7), ('part', 6), ('side', 6), ('modern', 5), ('info', 5), ('!', 5), ('west', 5), ('could', 5), ('good', 5), ('get', 5), ('asian', 4), ('particular', 4)]\n"
     ]
    }
   ],
   "source": [
    "\n",
    "from collections import Counter\n",
    "\n",
    "f_request = open(\"data/WOZ_test_utt.txt\",encoding='utf-8')\n",
    "f_slots = open(\"data/WOZ_test_ans.txt\",encoding='utf-8')\n",
    "H_counter = Counter()\n",
    "R_counter = Counter()\n",
    "for line in f_request:\n",
    "    slot = f_slots.readline()\n",
    "    words = [word.lower() for word in word_tokenize(line.strip()) if word.lower() not in stopwords]\n",
    "    if slot.startswith(\"find_hotel\"):\n",
    "        H_counter.update(words)\n",
    "    else:\n",
    "        R_counter.update(words)\n",
    "                         \n",
    "print(H_counter.most_common(60))\n",
    "print(R_counter.most_common(60))"
   ]
  },
  {
   "cell_type": "code",
   "execution_count": 13,
   "metadata": {},
   "outputs": [],
   "source": [
    "hotel_words = {\"hotel\",\"hotels\",\"stay\",\"free\",\"star\",\"stars\",\"guesthouse\",\"bed\",\"accommodation\",\"accommodations\"}\n",
    "restaurant_words = {\"restaurant\", \"food\",\"eat\",\"serves\", \"restaurants\",\"indian\",\"chinese\",\"italian\",\"asian\"}"
   ]
  },
  {
   "cell_type": "code",
   "execution_count": 14,
   "metadata": {},
   "outputs": [],
   "source": [
    "def get_type(words):\n",
    "    hotel_word_count = len(hotel_words & words)\n",
    "    restaurant_word_count = len(restaurant_words & words)\n",
    "    if hotel_word_count > restaurant_word_count:\n",
    "        return \"find_hotel\"\n",
    "    else:\n",
    "        return \"find_restaurant\"\n"
   ]
  },
  {
   "cell_type": "code",
   "execution_count": 15,
   "metadata": {},
   "outputs": [],
   "source": [
    "from collections import defaultdict,Counter\n",
    "\n",
    "def get_slot_vocab(slots,filename):\n",
    "    slot_vocab = defaultdict(set)\n",
    "    with open(filename,encoding=\"utf-8\") as f:\n",
    "        for line in f:\n",
    "            slot_dict = {pair.split(\"=\")[0]: pair.split(\"=\")[1] for pair in line.strip().split(\"|\")[1:]}\n",
    "            for slot,value in slot_dict.items():\n",
    "                if slot in slots:\n",
    "                    slot_vocab[slot].add(value)\n",
    "    return slot_vocab\n",
    "\n",
    "        "
   ]
  },
  {
   "cell_type": "code",
   "execution_count": 16,
   "metadata": {},
   "outputs": [
    {
     "data": {
      "text/plain": [
       "defaultdict(set,\n",
       "            {'hotel-area': {'centre', 'east', 'north', 'south', 'west'},\n",
       "             'hotel-stars': {'0', '1', '2', '3', '4', '5'},\n",
       "             'restaurant-food': {'afghan',\n",
       "              'african',\n",
       "              'afternoon tea',\n",
       "              'asian',\n",
       "              'asian oriental',\n",
       "              'belgian',\n",
       "              'brazilian',\n",
       "              'british',\n",
       "              'canapes',\n",
       "              'caribbean',\n",
       "              'catalan',\n",
       "              'chinese',\n",
       "              'corsica',\n",
       "              'danish',\n",
       "              'eastern european',\n",
       "              'eritrean',\n",
       "              'european',\n",
       "              'french',\n",
       "              'gastropub',\n",
       "              'halal',\n",
       "              'hungarian',\n",
       "              'indian',\n",
       "              'international',\n",
       "              'italian',\n",
       "              'jamaican',\n",
       "              'mediterranean',\n",
       "              'mexican',\n",
       "              'modern european',\n",
       "              'modern global',\n",
       "              'molecular gastronomy',\n",
       "              'north indian',\n",
       "              'panasian',\n",
       "              'portuguese',\n",
       "              'south african',\n",
       "              'south indian',\n",
       "              'spanish',\n",
       "              'swedish',\n",
       "              'turkish',\n",
       "              'vegetarian',\n",
       "              'venetian',\n",
       "              'vietnamese',\n",
       "              'weish'},\n",
       "             'restaurant-pricerange': {'cheap', 'expensive', 'moderate'},\n",
       "             'hotel-type': {'dontcare', 'guesthouse'},\n",
       "             'restaurant-area': {'centre', 'east', 'north', 'south', 'west'}})"
      ]
     },
     "execution_count": 16,
     "metadata": {},
     "output_type": "execute_result"
    }
   ],
   "source": [
    "get_slot_vocab([\"restaurant-food\",\"restaurant-pricerange\",\"restaurant-area\",\"hotel-area\",\"hotel-stars\",\"hotel-type\"],\"data/WOZ_test_ans.txt\")"
   ]
  },
  {
   "cell_type": "code",
   "execution_count": 17,
   "metadata": {},
   "outputs": [],
   "source": [
    "internet_words = {\"wifi\",\"internet\"}\n",
    "parking_words = {\"parking\",\"park\"}"
   ]
  },
  {
   "cell_type": "code",
   "execution_count": 18,
   "metadata": {},
   "outputs": [],
   "source": [
    "hotel_slot_order = [\"hotel-area\",\"hotel-internet\", \"hotel-name\", \"hotel-parking\",\"hotel-pricerange\", \"hotel-stars\", \"hotel-type\"]"
   ]
  },
  {
   "cell_type": "code",
   "execution_count": 19,
   "metadata": {},
   "outputs": [],
   "source": [
    "restaurant_slot_order = [\"restaurant-area\",\"restaurant-food\",\"restaurant-name\",\"restaurant-pricerange\"]"
   ]
  },
  {
   "cell_type": "code",
   "execution_count": 20,
   "metadata": {},
   "outputs": [],
   "source": [
    "name_indicators = {\"called\",\"named\",\"call\",\"name\"}\n",
    "\n",
    "def get_name(sentence):\n",
    "    for i in range(len(sentence)):\n",
    "        if sentence[i] in name_indicators:\n",
    "            j = i + 1\n",
    "            while j < len(sentence) and sentence[j].isalpha():\n",
    "                j += 1\n",
    "            if sentence[i+1] == \"the\" or sentence[i+1] == \"of\":\n",
    "                i+=1\n",
    "            return \" \".join(sentence[i+1:j])"
   ]
  },
  {
   "cell_type": "code",
   "execution_count": 21,
   "metadata": {
    "scrolled": false
   },
   "outputs": [
    {
     "name": "stdout",
     "output_type": "stream",
     "text": [
      "{'center': 'centre', 'moderately': 'moderate', 'zero': '0', '0-star': '0', 'one': '1', '1-star': '1', 'two': '2', '2-star': '2', 'three': '3', '3-star': '3', 'four': '4', '4-star': '4', 'five': '5', '5-star': '5'}\n",
      "{'two', '0', 'three', 'four', '0-star', '5', '5-star', 'zero', 'one', '3-star', '2-star', '2', '1-star', '4-star', '1', 'five', '4', '3'}\n"
     ]
    }
   ],
   "source": [
    "predict = True\n",
    "if predict:\n",
    "    f_request = open(\"data/WOZ_test_utt.txt\",encoding='utf-8')  \n",
    "    f_slots = open(\"WOZ_test_predicted_ans.txt\",\"w\",encoding='utf-8')\n",
    "else:\n",
    "    f_request = open(\"data/WOZ_dev_utt.txt\",encoding='utf-8')\n",
    "    f_slots = open(\"data/WOZ_dev_ans.txt\",encoding='utf-8')\n",
    "    correct = 0\n",
    "    total = 0\n",
    "slot_vocab = get_slot_vocab([\"restaurant-food\",\"restaurant-pricerange\",\"restaurant-area\",\"hotel-area\",\"hotel-stars\",\"hotel-type\",\"hotel-pricerange\"],\"data/WOZ_test_ans.txt\")\n",
    "\n",
    "alternate_forms = {\"centre\":[\"center\"],\"moderate\":[\"moderately\"], \"0\":[\"zero\",\"0-star\"],\"1\":[\"one\",\"1-star\"], \"2\":[\"two\",\"2-star\"], \"3\":[\"three\",\"3-star\"],\"4\":[\"four\",\"4-star\"],\"5\":[\"five\",\"5-star\"]}\n",
    "rev_form_lookup = {}\n",
    "\n",
    "for canonical, alts in alternate_forms.items():\n",
    "    for alt in alts:\n",
    "        rev_form_lookup[alt] = canonical\n",
    "        \n",
    "for slot,vocab in slot_vocab.items():\n",
    "    for word in set(vocab):\n",
    "        if word in alternate_forms:\n",
    "            vocab.update(alternate_forms[word])\n",
    "\n",
    "print(rev_form_lookup)\n",
    "print(slot_vocab[\"hotel-stars\"])\n",
    "            \n",
    "for line in f_request:\n",
    "    if not predict:\n",
    "        answer = f_slots.readline().strip() \n",
    "    sent = [word.lower() for word in word_tokenize(line.strip())]\n",
    "    words = set([word for word in sent if word not in stopwords])\n",
    "    request_type = get_type(words)\n",
    "    if request_type == \"find_hotel\":\n",
    "        final_slots = {}\n",
    "        if words & internet_words:\n",
    "            final_slots[\"hotel-internet\"] = \"yes\"\n",
    "        if words & parking_words:\n",
    "            if \"n't\" in words:\n",
    "                final_slots[\"hotel-parking\"] = \"no\"                \n",
    "            else:\n",
    "                final_slots[\"hotel-parking\"] = \"yes\" \n",
    "        if \"guesthouse\" in words:\n",
    "            final_slots[\"hotel-type\"] = \"guesthouse\"\n",
    "        for slot in [\"hotel-area\",\"hotel-stars\",\"hotel-pricerange\"]:\n",
    "            overlap = slot_vocab[slot] & words\n",
    "            if overlap:\n",
    "                final_slots[slot] = list(overlap)[0]\n",
    "        for slot,value in final_slots.items():\n",
    "            if value in rev_form_lookup:\n",
    "                final_slots[slot] = rev_form_lookup[value]\n",
    "            \n",
    "        name = get_name(sent)\n",
    "        if name:\n",
    "            final_slots[\"hotel-name\"] = name\n",
    "            \n",
    "        output = [\"find_hotel\"]\n",
    "        for slot in hotel_slot_order:\n",
    "            if slot in final_slots:\n",
    "                output.append(slot+\"=\"+final_slots[slot])\n",
    "        output = \"|\".join(output)\n",
    "    else:\n",
    "        final_slots = {}\n",
    "        for slot in [\"restaurant-area\",\"restaurant-food\",\"restaurant-pricerange\"]:\n",
    "            overlap = slot_vocab[slot] & words\n",
    "            if overlap:\n",
    "                final_slots[slot] = list(overlap)[0]       \n",
    "\n",
    "        for slot,value in final_slots.items():\n",
    "            if value in rev_form_lookup:\n",
    "                final_slots[slot] = rev_form_lookup[value]\n",
    "            \n",
    "        name = get_name(sent)\n",
    "        if name:\n",
    "            final_slots[\"restaurant-name\"] = name\n",
    "            \n",
    "        output = [\"find_restaurant\"]\n",
    "        for slot in restaurant_slot_order:\n",
    "            if slot in final_slots:\n",
    "                output.append(slot+\"=\"+final_slots[slot]) \n",
    "        output = \"|\".join(output)                \n",
    "    \n",
    "    if predict:\n",
    "        f_slots.write(output+\"\\n\")\n",
    "    else:       \n",
    "        if answer == output:\n",
    "            correct += 1\n",
    "        else:\n",
    "            print(line.strip())\n",
    "            print(output)\n",
    "            print(answer)\n",
    "            print(words)\n",
    "        total += 1\n",
    "        print(correct/total)\n",
    "\n",
    "f_request.close()\n",
    "f_slots.close()\n",
    "    "
   ]
  },
  {
   "cell_type": "code",
   "execution_count": null,
   "metadata": {},
   "outputs": [],
   "source": []
  }
 ],
 "metadata": {
  "kernelspec": {
   "display_name": "Python 3",
   "language": "python",
   "name": "python3"
  },
  "language_info": {
   "codemirror_mode": {
    "name": "ipython",
    "version": 3
   },
   "file_extension": ".py",
   "mimetype": "text/x-python",
   "name": "python",
   "nbconvert_exporter": "python",
   "pygments_lexer": "ipython3",
   "version": "3.9.6"
  }
 },
 "nbformat": 4,
 "nbformat_minor": 2
}
