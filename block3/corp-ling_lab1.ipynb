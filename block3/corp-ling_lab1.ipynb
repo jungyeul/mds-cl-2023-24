{
 "cells": [
  {
   "cell_type": "markdown",
   "metadata": {},
   "source": [
    "# COLX 521 Lab Assignment 1: Strings"
   ]
  },
  {
   "cell_type": "markdown",
   "metadata": {},
   "source": [
    "## Assignment Objectives"
   ]
  },
  {
   "cell_type": "markdown",
   "metadata": {},
   "source": [
    "This assignment will\n",
    "- give you some more practice with the basic string methods available in Python\n",
    "- have you iterate over NLTK corpora\n",
    "- give you some practice in teamword and code review\n",
    "\n",
    "Some notes:\n",
    "\n",
    "- Exercises marked with a \"T\" (ie, T.1, etc.) are teamwork assignments.  They should be completed with your teammates.  Please see the teams folder in the Students repo for your teammates.\n",
    "- If an exercise does not have a \"T\", it must be completed individually.\n",
    "- Assert statements are not to be changed.  These act as tests that your code is returning the correct values.  You are welcome (and it's good practice) to write new tests to test your code.  Writing tests to validate your code helps you check for special cases, and ensures that you know what your data looks like.  Take a look at the given assertions for ideas of how to write them, but typically, edge cases are good things to check (how does your code handle weird things?).  Take a look at the data, and see what the results should look like - and then assert that they do.  This does not mean running your code, and then writing an assertion that it passes.\n",
    "- Optional assignments are meant to further your understanding of the material beyond what we go through in class.  They are optional, but the highest grade you can achieve without attempting them is 95%.\n",
    "- Code review: Code review is a process whereby previously-written code is scanned for bugs, inefficiencies, quality, and readability.  The reviewer can be the original author of the code, but often, it is not.  Reading code written by other authors is an important skill, as you will often be contributing to codebases developed by other team members.  Many companies have policies that code must be reviewed before being accepted to the project repo (and this will be a requirement of your Capstones, as well).  It's best to perform review on small pieces of code - research has shown that as the amount of code that needs to be reviewed increases, the number of bugs that slip by review also increases.  This is also a good way to study for tests, and to prepare for interview questions."
   ]
  },
  {
   "cell_type": "markdown",
   "metadata": {},
   "source": [
    "## Getting Started\n",
    "\n",
    "This assignment requires that you have downloaded following NLTK corpora/lexicons"
   ]
  },
  {
   "cell_type": "code",
   "execution_count": 1,
   "metadata": {},
   "outputs": [
    {
     "name": "stderr",
     "output_type": "stream",
     "text": [
      "[nltk_data] Downloading package treebank to\n",
      "[nltk_data]     /Users/jungyeul/nltk_data...\n",
      "[nltk_data]   Package treebank is already up-to-date!\n",
      "[nltk_data] Downloading package brown to /Users/jungyeul/nltk_data...\n",
      "[nltk_data]   Package brown is already up-to-date!\n",
      "[nltk_data] Downloading package reuters to\n",
      "[nltk_data]     /Users/jungyeul/nltk_data...\n",
      "[nltk_data]   Package reuters is already up-to-date!\n"
     ]
    },
    {
     "data": {
      "text/plain": [
       "True"
      ]
     },
     "execution_count": 1,
     "metadata": {},
     "output_type": "execute_result"
    }
   ],
   "source": [
    "# provided code\n",
    "import nltk\n",
    "nltk.download(\"treebank\")\n",
    "nltk.download(\"brown\")\n",
    "nltk.download(\"reuters\")"
   ]
  },
  {
   "cell_type": "markdown",
   "metadata": {},
   "source": [
    "Run the code below so you can access them"
   ]
  },
  {
   "cell_type": "code",
   "execution_count": 2,
   "metadata": {},
   "outputs": [],
   "source": [
    "# provided code\n",
    "from nltk.corpus import treebank,brown,reuters,stopwords\n",
    "import matplotlib.pyplot as plt\n",
    "from wordcloud import WordCloud"
   ]
  },
  {
   "cell_type": "markdown",
   "metadata": {},
   "source": [
    "## Tidy Submission\n",
    "\n",
    "rubric={mechanics:1}"
   ]
  },
  {
   "cell_type": "markdown",
   "metadata": {},
   "source": [
    "To get the marks for tidy submission:\n",
    "\n",
    "- Submit the assignment by filling in this jupyter notebook with your answers embedded\n",
    "- Be sure to follow the [general lab instructions](https://ubc-mds.github.io/resources_pages/general_lab_instructions)"
   ]
  },
  {
   "cell_type": "markdown",
   "metadata": {},
   "source": [
    "### Exercise T.1: POS-tagged sentence to string\n",
    "\n",
    "rubric={accuracy:3,quality:1}"
   ]
  },
  {
   "cell_type": "markdown",
   "metadata": {},
   "source": [
    "Part-of-speech (POS) tagged sentences from the Brown corpus accessed by iterating using the <i>tagged_sents</i> method look like this:\n",
    "\n",
    "\\[('The', 'AT'), ('Hartsfield', 'NP'), ('home', 'NR'), ('is', 'BEZ'), ('at', 'IN'), ('637', 'CD'), ('E.', 'NP'), ('Pelham', 'NP'), ('Rd.', 'NN-TL'), ('Aj', 'NN'), ('.', '.')\\]\n",
    "\n",
    "That is, they are lists of (word, part-of-speech) tuples, where both word and the POS are strings. You'll notice that the POS tags for words like \"Hartsfield\" and \"home\" start with \"N\", indicating these are nouns, see [the wikipedia entry for the Brown corpus](https://en.wikipedia.org/wiki/Brown_Corpus#Part-of-speech_tags_used) for more infomation about the meanings of these tags.  Verbs start with \"V\", adjectives start with \"J\", and adverbs start with \"R\".\n",
    "\n",
    "The default structure of the Brown corpus works very well for algorithms, but isn't as helpful for humans - you are going to be converting the sentences in <i>tagged_sents</i> to a more human-readable format.\n",
    "\n",
    "In this exercise you will convert a sentence of the Brown corpus to a single string (appropriate for writing to disk) that looks like this:\n",
    "\n",
    "the/AT hartsfield/NP home/NR is/BEZ at/IN 637/CD e./NP pelham/NP rd./NN Aj/NN ./.\n",
    "\n",
    "Note the following changes:\n",
    "- the sentence has been converted into a single string (it's no longer a list of tuples of strings)\n",
    "- the words are now lowercase (ie, no capital letters)\n",
    "- any POS tag with a hyphen consists only of the part before the hyphen (the marking after the hyphen contains information that is not included in most POS tagsets - it's extra information we often don't care about as much)\n",
    "- Each word and part of speech tag is separated by a forward slash (/)\n",
    "- Each word/pos pair is separated by a space.\n",
    "\n",
    "Do this for the first sentence of the Brown corpus, which has already been extracted for you. Assign the result to the variable `string_sent` and check you have done this correctly using the provided asserts.  Tip: it's often a good idea to look at your data before you start writing your code.  Likewise, print statements in your code as you are developing it are a good way to watch the status of the data as the problem evolves.  These can be commented out (or removed completely) once your code is thoroughly debugged."
   ]
  },
  {
   "cell_type": "code",
   "execution_count": 8,
   "metadata": {},
   "outputs": [
    {
     "name": "stdout",
     "output_type": "stream",
     "text": [
      "[('From', 'IN'), ('what', 'WDT'), ('I', 'PPSS'), ('was', 'BEDZ'), ('able', 'JJ'), ('to', 'IN'), ('gauge', 'NN'), ('in', 'IN'), ('a', 'AT'), ('swift', 'JJ'), (',', ','), ('greedy', 'JJ'), ('glance', 'NN'), (',', ','), ('the', 'AT'), ('figure', 'NN'), ('inside', 'IN'), ('the', 'AT'), ('coral-colored', 'JJ'), ('boucle', 'NN'), ('dress', 'NN'), ('was', 'BEDZ'), ('stupefying', 'VBG'), ('.', '.')]\n"
     ]
    }
   ],
   "source": [
    "tagged_sent = brown.tagged_sents()[-1]\n",
    "print(tagged_sent)\n",
    "\n",
    "# your code here\n",
    "    # lower()\n",
    "    # trim POS (eg. NN-TL --> NN)\n",
    "    # change the format (eg. `from/IN`)\n",
    "\n",
    "# print(string_sent)"
   ]
  },
  {
   "cell_type": "code",
   "execution_count": 7,
   "metadata": {},
   "outputs": [
    {
     "name": "stdout",
     "output_type": "stream",
     "text": [
      "Success!\n"
     ]
    }
   ],
   "source": [
    "assert string_sent == \"from/IN what/WDT i/PPSS was/BEDZ able/JJ to/IN gauge/NN in/IN a/AT swift/JJ ,/, greedy/JJ glance/NN ,/, the/AT figure/NN inside/IN the/AT coral-colored/JJ boucle/NN dress/NN was/BEDZ stupefying/VBG ./.\"\n",
    "print(\"Success!\")"
   ]
  },
  {
   "cell_type": "markdown",
   "metadata": {},
   "source": [
    "### Exercise T.2: Exploring the Reuters corpus\n",
    "rubric={accuracy:3,quality:1}\n",
    "\n",
    "NLTK provides access to the `reuters` corpus, which is a collection of Reuters new articles labelled by topic. Adapting the code from the lecture, please provide *a single* line of code that outputs each of the following:\n",
    "\n",
    "* The size of the corpus, in word tokens"
   ]
  },
  {
   "cell_type": "code",
   "execution_count": 9,
   "metadata": {},
   "outputs": [
    {
     "data": {
      "text/plain": [
       "1720901"
      ]
     },
     "execution_count": 9,
     "metadata": {},
     "output_type": "execute_result"
    }
   ],
   "source": []
  },
  {
   "cell_type": "markdown",
   "metadata": {},
   "source": [
    "token vs. type ...\n",
    "\n",
    "\\# of token vs. \\# of type ..."
   ]
  },
  {
   "cell_type": "markdown",
   "metadata": {},
   "source": [
    "* The number of word types, after lowercasing:"
   ]
  },
  {
   "cell_type": "code",
   "execution_count": 6,
   "metadata": {},
   "outputs": [
    {
     "data": {
      "text/plain": [
       "31078"
      ]
     },
     "execution_count": 6,
     "metadata": {},
     "output_type": "execute_result"
    }
   ],
   "source": []
  },
  {
   "cell_type": "markdown",
   "metadata": {},
   "source": [
    "* The topics (`categories()`) included in the corpus"
   ]
  },
  {
   "cell_type": "code",
   "execution_count": 7,
   "metadata": {},
   "outputs": [
    {
     "data": {
      "text/plain": [
       "['acq',\n",
       " 'alum',\n",
       " 'barley',\n",
       " 'bop',\n",
       " 'carcass',\n",
       " 'castor-oil',\n",
       " 'cocoa',\n",
       " 'coconut',\n",
       " 'coconut-oil',\n",
       " 'coffee',\n",
       " 'copper',\n",
       " 'copra-cake',\n",
       " 'corn',\n",
       " 'cotton',\n",
       " 'cotton-oil',\n",
       " 'cpi',\n",
       " 'cpu',\n",
       " 'crude',\n",
       " 'dfl',\n",
       " 'dlr',\n",
       " 'dmk',\n",
       " 'earn',\n",
       " 'fuel',\n",
       " 'gas',\n",
       " 'gnp',\n",
       " 'gold',\n",
       " 'grain',\n",
       " 'groundnut',\n",
       " 'groundnut-oil',\n",
       " 'heat',\n",
       " 'hog',\n",
       " 'housing',\n",
       " 'income',\n",
       " 'instal-debt',\n",
       " 'interest',\n",
       " 'ipi',\n",
       " 'iron-steel',\n",
       " 'jet',\n",
       " 'jobs',\n",
       " 'l-cattle',\n",
       " 'lead',\n",
       " 'lei',\n",
       " 'lin-oil',\n",
       " 'livestock',\n",
       " 'lumber',\n",
       " 'meal-feed',\n",
       " 'money-fx',\n",
       " 'money-supply',\n",
       " 'naphtha',\n",
       " 'nat-gas',\n",
       " 'nickel',\n",
       " 'nkr',\n",
       " 'nzdlr',\n",
       " 'oat',\n",
       " 'oilseed',\n",
       " 'orange',\n",
       " 'palladium',\n",
       " 'palm-oil',\n",
       " 'palmkernel',\n",
       " 'pet-chem',\n",
       " 'platinum',\n",
       " 'potato',\n",
       " 'propane',\n",
       " 'rand',\n",
       " 'rape-oil',\n",
       " 'rapeseed',\n",
       " 'reserves',\n",
       " 'retail',\n",
       " 'rice',\n",
       " 'rubber',\n",
       " 'rye',\n",
       " 'ship',\n",
       " 'silver',\n",
       " 'sorghum',\n",
       " 'soy-meal',\n",
       " 'soy-oil',\n",
       " 'soybean',\n",
       " 'strategic-metal',\n",
       " 'sugar',\n",
       " 'sun-meal',\n",
       " 'sun-oil',\n",
       " 'sunseed',\n",
       " 'tea',\n",
       " 'tin',\n",
       " 'trade',\n",
       " 'veg-oil',\n",
       " 'wheat',\n",
       " 'wpi',\n",
       " 'yen',\n",
       " 'zinc']"
      ]
     },
     "execution_count": 7,
     "metadata": {},
     "output_type": "execute_result"
    }
   ],
   "source": []
  },
  {
   "cell_type": "markdown",
   "metadata": {},
   "source": [
    "* The topics associated with the document labelled 'test/14840': (we are still using `categories()`)"
   ]
  },
  {
   "cell_type": "code",
   "execution_count": 8,
   "metadata": {},
   "outputs": [
    {
     "data": {
      "text/plain": [
       "['coffee', 'lumber', 'palm-oil', 'rubber', 'veg-oil']"
      ]
     },
     "execution_count": 8,
     "metadata": {},
     "output_type": "execute_result"
    }
   ],
   "source": []
  },
  {
   "cell_type": "markdown",
   "metadata": {},
   "source": [
    "* The number of documents which are labelled with the \"gold\" topic (`fileids()`)"
   ]
  },
  {
   "cell_type": "code",
   "execution_count": 9,
   "metadata": {},
   "outputs": [
    {
     "data": {
      "text/plain": [
       "124"
      ]
     },
     "execution_count": 9,
     "metadata": {},
     "output_type": "execute_result"
    }
   ],
   "source": []
  },
  {
   "cell_type": "markdown",
   "metadata": {},
   "source": [
    "* The total number of sentences in documents which have the \"housing\" topic (`sents(categories=\"..\")`)"
   ]
  },
  {
   "cell_type": "code",
   "execution_count": 10,
   "metadata": {},
   "outputs": [
    {
     "data": {
      "text/plain": [
       "139"
      ]
     },
     "execution_count": 10,
     "metadata": {},
     "output_type": "execute_result"
    }
   ],
   "source": []
  },
  {
   "cell_type": "markdown",
   "metadata": {},
   "source": [
    "Finally, create a word cloud for the \"coffee\" topic, excluding stopwords (this will take more than one line)."
   ]
  },
  {
   "cell_type": "code",
   "execution_count": 11,
   "metadata": {},
   "outputs": [],
   "source": [
    "#provided code\n",
    "stopwords_set = stopwords.words(\"English\")"
   ]
  },
  {
   "cell_type": "code",
   "execution_count": 12,
   "metadata": {},
   "outputs": [
    {
     "data": {
      "image/png": "[encoded data removed]",
      "text/plain": [
       "<Figure size 640x480 with 1 Axes>"
      ]
     },
     "metadata": {},
     "output_type": "display_data"
    }
   ],
   "source": [
    "# for `generate()`:\n",
    "# 1. make a list of words `categories=\"cocoa\"`\n",
    "# 2. join as a big string to put it in `generate()`\n",
    "\n",
    "wordcloud = WordCloud(...).generate(...)\n",
    "plt.imshow(wordcloud)\n",
    "plt.axis(\"off\")\n",
    "plt.show()"
   ]
  },
  {
   "cell_type": "markdown",
   "metadata": {},
   "source": [
    "### Exercise 1: Slicing and String Manipulation"
   ]
  },
  {
   "cell_type": "markdown",
   "metadata": {},
   "source": [
    "Your thoroughly artificial goal in this exercise is to produce a given string without actually writing any string literals.  Recall that a string literal has the text explicitly listed within \"\"s (ie, \"This is a string literal\".  Instead, you will make use of slicing and string operations to turn existing strings into other strings. Two string literals are provided for you to use in the box below; **DO NOT WRITE MORE** (i.e. ' or \" should <b>not</b> appear in your code, if they do you will get no points). You can manipulate these string literals using any of the methods and operators for manipulating stings in Lecture 1, including indexing (\\[\\]), slicing(\\[:\\]), concenation(+), <i>split</i>, <i>join</i>, <i>replace</i>, and <i>strip</i>. You should provide the most compact solution you can come up with. Feel free to declare temporary variables, as long as you aren't assigning string literals. An example is provided for you."
   ]
  },
  {
   "cell_type": "code",
   "execution_count": 14,
   "metadata": {},
   "outputs": [],
   "source": [
    "# provided code\n",
    "S = \"farmer jack realized that big yellow quilts were expensive.\"\n",
    "space = \" \""
   ]
  },
  {
   "cell_type": "markdown",
   "metadata": {},
   "source": [
    "the"
   ]
  },
  {
   "cell_type": "code",
   "execution_count": 15,
   "metadata": {},
   "outputs": [
    {
     "data": {
      "text/plain": [
       "'farmer jack'"
      ]
     },
     "execution_count": 15,
     "metadata": {},
     "output_type": "execute_result"
    }
   ],
   "source": [
    "# provided code\n",
    "S[:11]"
   ]
  },
  {
   "cell_type": "markdown",
   "metadata": {},
   "source": [
    "#### 1.1\n",
    "rubric={correctness:1}\n",
    "\n",
    "expensive"
   ]
  },
  {
   "cell_type": "code",
   "execution_count": 17,
   "metadata": {},
   "outputs": [
    {
     "data": {
      "text/plain": [
       "'expensive.'"
      ]
     },
     "execution_count": 17,
     "metadata": {},
     "output_type": "execute_result"
    }
   ],
   "source": []
  },
  {
   "cell_type": "markdown",
   "metadata": {},
   "source": [
    "#### 1.2\n",
    "rubric={correctness:1}\n",
    "\n",
    "big quilts"
   ]
  },
  {
   "cell_type": "code",
   "execution_count": 19,
   "metadata": {},
   "outputs": [
    {
     "data": {
      "text/plain": [
       "'big quilts'"
      ]
     },
     "execution_count": 19,
     "metadata": {},
     "output_type": "execute_result"
    }
   ],
   "source": []
  },
  {
   "cell_type": "markdown",
   "metadata": {},
   "source": [
    "#### 1.3\n",
    "rubric={correctness:1}\n",
    "\n",
    "big yellow quilts are expensive farmer jack"
   ]
  },
  {
   "cell_type": "code",
   "execution_count": 20,
   "metadata": {},
   "outputs": [
    {
     "data": {
      "text/plain": [
       "'big yellow quilts are expensive farmer jack'"
      ]
     },
     "execution_count": 20,
     "metadata": {},
     "output_type": "execute_result"
    }
   ],
   "source": [
    "S[26:44] +  S[1] + S[-13:-1] + S[6] + S[:11]"
   ]
  },
  {
   "cell_type": "markdown",
   "metadata": {},
   "source": [
    "#### 1.4\n",
    "rubric={correctness:1}\n",
    "\n",
    "farmer jill"
   ]
  },
  {
   "cell_type": "code",
   "execution_count": 21,
   "metadata": {},
   "outputs": [
    {
     "data": {
      "text/plain": [
       "'farmer jill'"
      ]
     },
     "execution_count": 21,
     "metadata": {},
     "output_type": "execute_result"
    }
   ],
   "source": [
    "S[:11].replace(S[8:11],S[27]) + S[32:34]"
   ]
  },
  {
   "cell_type": "markdown",
   "metadata": {},
   "source": [
    "#### 1.5\n",
    "rubric={correctness:1}\n",
    "\n",
    "geo (don't use \"+\")"
   ]
  },
  {
   "cell_type": "code",
   "execution_count": 22,
   "metadata": {},
   "outputs": [
    {
     "data": {
      "text/plain": [
       "'geo'"
      ]
     },
     "execution_count": 22,
     "metadata": {},
     "output_type": "execute_result"
    }
   ],
   "source": []
  },
  {
   "cell_type": "markdown",
   "metadata": {},
   "source": [
    "#### 1.6\n",
    "rubric={correctness:1}\n",
    "\n",
    "expensive quilts were yellow"
   ]
  },
  {
   "cell_type": "code",
   "execution_count": 23,
   "metadata": {},
   "outputs": [
    {
     "name": "stdout",
     "output_type": "stream",
     "text": [
      "['farmer', 'jack', 'realized', 'that', 'big', 'yellow', 'quilts', 'were', 'expensive.']\n"
     ]
    },
    {
     "data": {
      "text/plain": [
       "'expensive quilts were yellow'"
      ]
     },
     "execution_count": 23,
     "metadata": {},
     "output_type": "execute_result"
    }
   ],
   "source": []
  },
  {
   "cell_type": "markdown",
   "metadata": {},
   "source": [
    "#### 1.7\n",
    "rubric={correctness:1}\n",
    "\n",
    "farmerojackorealizedothatobigoyellowoquiltsowereoexpensive."
   ]
  },
  {
   "cell_type": "code",
   "execution_count": 24,
   "metadata": {},
   "outputs": [
    {
     "data": {
      "text/plain": [
       "'farmerojackorealizedothatobigoyellowoquiltsowereoexpensive.'"
      ]
     },
     "execution_count": 24,
     "metadata": {},
     "output_type": "execute_result"
    }
   ],
   "source": []
  },
  {
   "cell_type": "markdown",
   "metadata": {},
   "source": [
    "### Exercise 2: Building word lists"
   ]
  },
  {
   "cell_type": "markdown",
   "metadata": {},
   "source": [
    "In this exercise, you'll be creating lists of words from the Brown corpus which have some particular property. You should iterate over each word in the corpus (using a <i>for</i> loop and the <i>words</i> method), and add to it the list (using append) if it is the kind of word you're looking for. Then you should print out the length of the list as well as the first five examples you found (remember that slicing also works for lists!). It is okay if you repeat the code for iterating over the Brown in each cell (also okay if you decompose this and use a function!)"
   ]
  },
  {
   "cell_type": "markdown",
   "metadata": {},
   "source": [
    "#### 2.1\n",
    "rubric={accuracy:1}\n",
    "\n",
    "Find words which contain the lowercase letter q"
   ]
  },
  {
   "cell_type": "code",
   "execution_count": 25,
   "metadata": {
    "scrolled": true
   },
   "outputs": [
    {
     "name": "stdout",
     "output_type": "stream",
     "text": [
      "4861\n",
      "['inadequate', 'equitable', 'requesting', 'quickie', 'Colquitt']\n"
     ]
    }
   ],
   "source": [
    "word_list = []\n",
    "#your code here\n",
    "for word in brown.words():\n",
    "    # if word contains 'q':\n",
    "    #   do something\n",
    "\n",
    "#your code here\n",
    "print(len(word_list))\n",
    "print(word_list[:5])\n"
   ]
  },
  {
   "cell_type": "code",
   "execution_count": 26,
   "metadata": {},
   "outputs": [
    {
     "name": "stdout",
     "output_type": "stream",
     "text": [
      "Success!\n"
     ]
    }
   ],
   "source": [
    "assert len(word_list) == 4861\n",
    "assert \"equation\" in word_list\n",
    "assert \"laughable\" not in word_list\n",
    "print(\"Success!\")"
   ]
  },
  {
   "cell_type": "markdown",
   "metadata": {},
   "source": [
    "#### 2.2\n",
    "rubric={accuracy:1}\n",
    "\n",
    "Find words that have a capital letter, but are not capitalized (ie, a capital letter somewhere other than the start of the word)"
   ]
  },
  {
   "cell_type": "code",
   "execution_count": 27,
   "metadata": {},
   "outputs": [
    {
     "name": "stdout",
     "output_type": "stream",
     "text": [
      "284\n",
      "['pro-Western', 'pro-Western', 'pro-Western', 'pro-Communist', 'ex-National']\n"
     ]
    }
   ],
   "source": [
    "word_list = []\n",
    "#your code here\n",
    "for word in brown.words():\n",
    "    # if ... :\n",
    "    #   do something\n",
    "\n",
    "print(len(word_list))\n",
    "print(word_list[:5])\n",
    "#your code here"
   ]
  },
  {
   "cell_type": "code",
   "execution_count": 29,
   "metadata": {},
   "outputs": [
    {
     "name": "stdout",
     "output_type": "stream",
     "text": [
      "Success!\n"
     ]
    }
   ],
   "source": [
    "assert len(word_list) == 284\n",
    "assert \"color-TV\" in word_list\n",
    "assert \"TV\" not in word_list\n",
    "print(\"Success!\")"
   ]
  },
  {
   "cell_type": "markdown",
   "metadata": {},
   "source": [
    "#### 2.3\n",
    "rubric={accuracy:2}\n",
    "\n",
    "Find doubled consonant verbs (ie, verbs longer than 6 letters that double the consonant before the ending).  You can limit it to the -ing and -ed endings."
   ]
  },
  {
   "cell_type": "code",
   "execution_count": 30,
   "metadata": {},
   "outputs": [
    {
     "name": "stdout",
     "output_type": "stream",
     "text": [
      "4247\n",
      "['getting', 'allotted', 'missing', 'permitting', 'getting']\n"
     ]
    }
   ],
   "source": [
    "word_list = []\n",
    "#your code here\n",
    "vowels = {\"a\",\"e\",\"i\",\"o\",\"u\",\"y\"}\n",
    "for word, pos in brown.tagged_words():\n",
    "    # ... \n",
    "    \n",
    "print(len(word_list))\n",
    "print(word_list[:5])\n",
    "#your code here"
   ]
  },
  {
   "cell_type": "code",
   "execution_count": 31,
   "metadata": {},
   "outputs": [
    {
     "name": "stdout",
     "output_type": "stream",
     "text": [
      "Success!\n"
     ]
    }
   ],
   "source": [
    "assert len(word_list) == 4247\n",
    "assert \"beginning\" in word_list\n",
    "assert \"seeing\" not in word_list\n",
    "print(\"Success!\")"
   ]
  },
  {
   "cell_type": "markdown",
   "metadata": {},
   "source": [
    "#### 2.4\n",
    "rubric={accuracy:2}\n",
    "\n",
    "Find entirely alphabetic words which contain only vowels. Your solution should be case insensitive! To eliminate the trivial \"a\" and \"I\" cases, make sure the words are at least 3 letters long."
   ]
  },
  {
   "cell_type": "code",
   "execution_count": 32,
   "metadata": {},
   "outputs": [
    {
     "name": "stdout",
     "output_type": "stream",
     "text": [
      "3430\n",
      "['you', 'you', 'You', 'You', 'eye']\n"
     ]
    }
   ],
   "source": [
    "word_list = []\n",
    "#your code here\n",
    "vowels = {\"a\",\"e\",\"i\",\"o\",\"u\",\"y\"}\n",
    "for word in brown.words():\n",
    "    # if ... \n",
    "    \n",
    "print(len(word_list))\n",
    "print(word_list[:5])\n",
    "#your code here"
   ]
  },
  {
   "cell_type": "code",
   "execution_count": 33,
   "metadata": {},
   "outputs": [
    {
     "name": "stdout",
     "output_type": "stream",
     "text": [
      "Success!\n"
     ]
    }
   ],
   "source": [
    "assert len(word_list) == 3430\n",
    "assert \"Yea\" in word_list\n",
    "assert \"the\" not in word_list\n",
    "print(\"Success!\")"
   ]
  },
  {
   "cell_type": "markdown",
   "metadata": {},
   "source": [
    "#### 2.5  Code Review\n",
    "rubric={accuracy:1, quality:1, writing:1}\n",
    "\n",
    "Find all words which contain a single hyphen and each of the parts of the hypenated word is at least four letters.\n",
    "\n",
    "Code Review: A sample solution is provided; however, it is not very good code.  Your goal is to improve the solution so that it solves the same problem, but with better code.  A good code review comments on any code that is inefficient, overly-complex where it doesn't need to be, or hard to read.  Comment on any features of the code that can be improved (you will then improve them in your solution).  Also note that although this code is buggy, it passes the assertions.  Passing assertions is not proof, in itself, that code is bug-free (although the more tests it passes, the more likely it is to be free of bugs)."
   ]
  },
  {
   "cell_type": "code",
   "execution_count": 34,
   "metadata": {},
   "outputs": [
    {
     "name": "stdout",
     "output_type": "stream",
     "text": [
      "4509\n",
      "['September-October', 'hard-fought', 'Mayor-nominate', 'multi-million-dollar', 'multi-million-dollar']\n"
     ]
    }
   ],
   "source": [
    "word_list = []\n",
    "\n",
    "for x in brown.words():\n",
    "    for i, y in enumerate(x):\n",
    "        if(y == \"-\" and i >= 4 and len(x) >= i+1+4):\n",
    "            word_list.append(x)\n",
    "    if(len(word_list) == 4509):\n",
    "        break\n",
    "print(len(word_list))\n",
    "print(word_list[:5])"
   ]
  },
  {
   "cell_type": "code",
   "execution_count": 35,
   "metadata": {},
   "outputs": [
    {
     "name": "stdout",
     "output_type": "stream",
     "text": [
      "Success!\n"
     ]
    }
   ],
   "source": [
    "assert len(word_list) == 4509\n",
    "assert \"hard-fought\" in word_list\n",
    "assert \"hard-won\" not in word_list\n",
    "print(\"Success!\")"
   ]
  },
  {
   "cell_type": "markdown",
   "metadata": {},
   "source": [
    "Your writeup here.\n",
    "Please provide a short paragraph (4-5 sentences) that provides constructive criticism for how the\n",
    "above code could be improved.  Please do not simply provide bullet points.\n",
    "\n",
    "\n",
    "The above code is very difficult to read, and inefficient, as well.\n",
    "Looping through each character in a word, and ensuring that the first part is at least 4 characters\n",
    "can be achieved much easier (such as with split(\"-\").  The variable names are uninformative (x, i, y are not good variable names), and it takes some interpretation to understand the 1+4+x part of the if statement.  The code also does not provide a check that the word only consists of two hyphenated parts (it only checks that there are at least 2 parts, and that the second has at least 4 characters).  The check for 4509 words is dangerous - it forces the code to pass the assertion, without trying to actually fix the code."
   ]
  },
  {
   "cell_type": "code",
   "execution_count": 32,
   "metadata": {},
   "outputs": [
    {
     "name": "stdout",
     "output_type": "stream",
     "text": [
      "4509\n",
      "['September-October', 'hard-fought', 'Mayor-nominate', 'county-wide', 'small-town']\n"
     ]
    }
   ],
   "source": [
    "word_list = []\n",
    "\n",
    "#your code here\n",
    "\n",
    "print(len(word_list))\n",
    "print(word_list[:5])\n",
    "#your code here"
   ]
  },
  {
   "cell_type": "code",
   "execution_count": 33,
   "metadata": {},
   "outputs": [
    {
     "name": "stdout",
     "output_type": "stream",
     "text": [
      "Success!\n"
     ]
    }
   ],
   "source": [
    "assert len(word_list) == 4509\n",
    "assert \"hard-fought\" in word_list\n",
    "assert \"hard-won\" not in word_list\n",
    "print(\"Success!\")"
   ]
  }
 ],
 "metadata": {
  "kernelspec": {
   "display_name": "Python 3.9.6 64-bit",
   "language": "python",
   "name": "python3"
  },
  "language_info": {
   "codemirror_mode": {
    "name": "ipython",
    "version": 3
   },
   "file_extension": ".py",
   "mimetype": "text/x-python",
   "name": "python",
   "nbconvert_exporter": "python",
   "pygments_lexer": "ipython3",
   "version": "3.9.6"
  },
  "vscode": {
   "interpreter": {
    "hash": "20bf69066c0dd38d51965b69d5e1b6e387082e3198ba56e97997ac55f4e50ad0"
   }
  }
 },
 "nbformat": 4,
 "nbformat_minor": 2
}
