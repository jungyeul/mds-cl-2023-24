{
 "cells": [
  {
   "cell_type": "markdown",
   "metadata": {},
   "source": [
    "# COLX 521 Lab Assignment 2: Corpus Statistics"
   ]
  },
  {
   "cell_type": "markdown",
   "metadata": {},
   "source": [
    "## Assignment Objectives"
   ]
  },
  {
   "cell_type": "markdown",
   "metadata": {},
   "source": [
    "In this assignment you will \n",
    "- build and access lexicons\n",
    "- calculate and compare statistics about corpora in multiple modalities\n",
    "- learn how to transform a speech signal into mathematical features that can be used for ML.\n",
    "\n",
    "Notes: \n",
    "\n",
    "- Exercises labeled with \"T\" (ie, T.3) are teamwork assignments.  Refer to the Teams folder in the repo to find your teammates.\n",
    "- Speech can be considered an alternative modality to text.  We will be working with a library called OpenSmile, that converts the speech data into numerical representations.  Once it's in this form, you can use it just like you would any numerical data.\n"
   ]
  },
  {
   "cell_type": "markdown",
   "metadata": {},
   "source": [
    "## Getting Started"
   ]
  },
  {
   "cell_type": "markdown",
   "metadata": {},
   "source": [
    "This assignment requires that you have downloaded following NLTK corpora/lexicons"
   ]
  },
  {
   "cell_type": "code",
   "execution_count": 1,
   "metadata": {},
   "outputs": [
    {
     "name": "stderr",
     "output_type": "stream",
     "text": [
      "[nltk_data] Downloading package treebank to\n",
      "[nltk_data]     /Users/jungyeul/nltk_data...\n",
      "[nltk_data]   Package treebank is already up-to-date!\n",
      "[nltk_data] Downloading package cmudict to\n",
      "[nltk_data]     /Users/jungyeul/nltk_data...\n",
      "[nltk_data]   Package cmudict is already up-to-date!\n",
      "[nltk_data] Downloading package brown to /Users/jungyeul/nltk_data...\n",
      "[nltk_data]   Package brown is already up-to-date!\n",
      "[nltk_data] Downloading package movie_reviews to\n",
      "[nltk_data]     /Users/jungyeul/nltk_data...\n",
      "[nltk_data]   Package movie_reviews is already up-to-date!\n"
     ]
    },
    {
     "data": {
      "text/plain": [
       "True"
      ]
     },
     "execution_count": 1,
     "metadata": {},
     "output_type": "execute_result"
    }
   ],
   "source": [
    "#provided code\n",
    "import nltk\n",
    "nltk.download(\"treebank\")\n",
    "nltk.download(\"cmudict\")\n",
    "nltk.download(\"brown\")\n",
    "nltk.download(\"movie_reviews\")\n"
   ]
  },
  {
   "cell_type": "markdown",
   "metadata": {},
   "source": [
    "Run the code below so you can access them and other relevant packages"
   ]
  },
  {
   "cell_type": "code",
   "execution_count": 2,
   "metadata": {},
   "outputs": [],
   "source": [
    "#provided code\n",
    "from nltk.corpus import treebank,cmudict,brown,movie_reviews\n",
    "from collections import defaultdict, Counter\n",
    "import matplotlib\n",
    "import matplotlib.pyplot as plt\n",
    "import numpy as np"
   ]
  },
  {
   "cell_type": "markdown",
   "metadata": {},
   "source": [
    "## Tidy Submission\n",
    "\n",
    "rubric={mechanics:1}"
   ]
  },
  {
   "cell_type": "markdown",
   "metadata": {},
   "source": [
    "To get the marks for tidy submission:\n",
    "\n",
    "- Submit the assignment by filling in this jupyter notebook with your answers embedded\n",
    "- Be sure to follow the [general lab instructions](https://ubc-mds.github.io/resources_pages/general_lab_instructions)"
   ]
  },
  {
   "cell_type": "markdown",
   "metadata": {},
   "source": [
    "### Exercise T.3: Homophones (Lecture 3 Teamwork)\n",
    "rubric={accuracy:2,efficiency:2,quality:1}"
   ]
  },
  {
   "cell_type": "markdown",
   "metadata": {},
   "source": [
    "The CMU pronouncing dictionary, which is accessible using NLTK, contains information about the pronunciation of words. It is a dictionary whose keys are written words and whose values are lists of pronunciations (since words can have multiple pronunciations), where each pronunciation is a list of phones, represented as strings. In this exercise, your main task is to construct sets of words that share a pronunciation: these are known as homophones. For example the word _bear_ should appear in a set with the word _bare_ because they have the same pronunciation. (side note: words that are spelled the same, but pronounced differently (like present tense \"read\" and past tense \"read\", are called \"homographs\".  Together, homophones and homographs form \"homonyms\" - you don't need to worry about homographs in this exercise.)\n",
    "\n",
    "There is an inefficient ($O(n^2)$) way to solve this problem which involves checking each pronunciation of each word against each pronunciation of every other word. You must not do this! A faster way to solve this problem is to reverse the CMU dictionary in one $O(n)$ pass, creating a lexicon which maps pronunciations to all words which have that pronunciation (this is called a \"reverse index\", and you will see them several times later in the program!).  The reverse index should have pronunciations as keys, and a list of spellings as values. The `values()` of that dictionary which have length greater than one are the sets of homophones that you want! Write code which generates and extracts those sets (you should probably have at least one function here!), then write some tests which show that the function(s) of your homophone finder are working correctly. (Hint: you may want to check that certain homophones that you know are identified correctly)."
   ]
  },
  {
   "cell_type": "code",
   "execution_count": 3,
   "metadata": {},
   "outputs": [
    {
     "name": "stdout",
     "output_type": "stream",
     "text": [
      "[['R', 'EH1', 'D'], ['R', 'IY1', 'D']] R EH1 D ~~~ R IY1 D\n",
      "[['B', 'EH1', 'R']] B EH1 R\n",
      "[['B', 'EH1', 'R']] B EH1 R\n"
     ]
    }
   ],
   "source": [
    "from nltk.corpus import cmudict\n",
    "\n",
    "p_dict = cmudict.dict()\n",
    "\n",
    "print(p_dict[\"read\"], ' '.join(p_dict[\"read\"][0]), '~~~', ' '.join(p_dict[\"read\"][1]))\n",
    "print(p_dict[\"bear\"], ' '.join(p_dict[\"bear\"][0]))\n",
    "print(p_dict[\"bare\"], ' '.join(p_dict[\"bare\"][0]))"
   ]
  },
  {
   "cell_type": "code",
   "execution_count": 4,
   "metadata": {},
   "outputs": [
    {
     "name": "stdout",
     "output_type": "stream",
     "text": [
      "a [['AH0'], ['EY1']]\n",
      "a. [['EY1']]\n",
      "a42128 [['EY1', 'F', 'AO1', 'R', 'T', 'UW1', 'W', 'AH1', 'N', 'T', 'UW1', 'EY1', 'T']]\n",
      "aaa [['T', 'R', 'IH2', 'P', 'AH0', 'L', 'EY1']]\n",
      "aaberg [['AA1', 'B', 'ER0', 'G']]\n",
      "aachen [['AA1', 'K', 'AH0', 'N']]\n",
      "aachener [['AA1', 'K', 'AH0', 'N', 'ER0']]\n",
      "aaker [['AA1', 'K', 'ER0']]\n",
      "aalseth [['AA1', 'L', 'S', 'EH0', 'TH']]\n",
      "aamodt [['AA1', 'M', 'AH0', 'T']]\n",
      "aancor [['AA1', 'N', 'K', 'AO2', 'R']]\n",
      "aardema [['AA0', 'R', 'D', 'EH1', 'M', 'AH0']]\n"
     ]
    }
   ],
   "source": [
    "count = 0\n",
    "for i, j in p_dict.items():\n",
    "    print(i, j)\n",
    "    if count > 10:\n",
    "        break \n",
    "    count += 1"
   ]
  },
  {
   "cell_type": "code",
   "execution_count": 5,
   "metadata": {},
   "outputs": [],
   "source": [
    "Cheatsheet (MDS-CL 2023-2024)\n",
    "\n",
    "def build_rev_p_dict(p_dict):\n",
    "    '''given the NLTK version of the CMU pronouncing dict, reverses the dictionary. The returned\n",
    "    dict has pronunciation strings as keys and sets of homophone words as values'''\n",
    "\n",
    "    rev_p_dict = defaultdict(set)\n",
    "    ...\n",
    "\n",
    "    # rev_p_dict['AH0'].add('a')\n",
    "\n",
    "    return rev_p_dict\n",
    "\n",
    "def get_homophone_sets(p_dict):\n",
    "    '''given the NLTK version of the CMU pronouncing dict, extracts a list of sets, where each set\n",
    "    contains words which are homophones'''\n",
    "    ### Your code here\n",
    "    rev_p_dict = build_rev_p_dict(p_dict)\n",
    "    homophone = []\n",
    "    ...\n",
    "    return homophone\n",
    "    ###"
   ]
  },
  {
   "cell_type": "code",
   "execution_count": 7,
   "metadata": {},
   "outputs": [
    {
     "name": "stdout",
     "output_type": "stream",
     "text": [
      "{'a', 'ae', 'ay', 'a.'}\n",
      "{'aaker', 'ocker'}\n",
      "{'encore', 'oncor', 'aancor'}\n",
      "{'aaron', 'aron', 'aran', 'ehren'}\n",
      "{'aarons', 'arens', \"aaron's\"}\n",
      "{'aaronson', 'aronson'}\n",
      "{'os', 'aase'}\n",
      "{'osten', 'aasen'}\n",
      "{'abadie', 'abadi'}\n",
      "{'abie', 'abbie', 'abby', 'abbey', 'abbe'}\n",
      "{'abet', 'abbett'}\n",
      "{'abbott', 'abbot'}\n"
     ]
    }
   ],
   "source": [
    "homophone_sets = get_homophone_sets(p_dict)\n",
    "\n",
    "count = 0\n",
    "for j in homophone_sets:\n",
    "    print(j)\n",
    "    if count > 10:\n",
    "        break \n",
    "    count += 1"
   ]
  },
  {
   "cell_type": "code",
   "execution_count": 8,
   "metadata": {},
   "outputs": [
    {
     "name": "stdout",
     "output_type": "stream",
     "text": [
      "Success!\n"
     ]
    }
   ],
   "source": [
    "# tests here\n",
    "p_dict = cmudict.dict()\n",
    "rev_p_dict = build_rev_p_dict(p_dict)\n",
    "\n",
    "assert len(rev_p_dict) == 114966\n",
    "assert \"R EH1 D\" in rev_p_dict\n",
    "assert rev_p_dict[\"R EH1 D\"] == ?\n",
    "\n",
    "homophone_sets = get_homophone_sets(p_dict)\n",
    "assert(len(homophone_sets) == 12827)\n",
    "assert {...} in homophone_sets\n",
    "assert {...} not in homophone_sets\n",
    "\n",
    "print(\"Success!\")"
   ]
  },
  {
   "cell_type": "markdown",
   "metadata": {},
   "source": [
    "### Exercise T.4: Comparing Genres (Lecture 4 Teamwork)\n",
    "rubric={accuracy:3,efficiency:1,viz:1,reasoning:2}"
   ]
  },
  {
   "cell_type": "markdown",
   "metadata": {},
   "source": [
    "Pick 3 genres of the Brown (your choice, but best if they're fairly distinct), and do a comparison between them. You need to include at least:\n",
    "\n",
    "- average sentence length\n",
    "- percent of words in the corpus which are adjectives (JJ, JJR, JJS, JJT tags)\n",
    "- lexical density\n",
    "- 50 words strongly associated with each genre\n",
    "\n",
    "You can adapt the code from the lecture for this, or code it however you like (as long as it is fairly efficient, using functions to avoid repeating code).  For the part about individual words, you can either divide or subtract word probabilities (whichever you think is more interesting/appropriate): for each word and each genre, use the average probability of the word in the two other genres for comparison. Include at least one appropriate visualization!\n",
    "\n",
    "Then, discuss why you think you're seeing the results that you are. Were there any surprises?\n",
    "\n",
    "There's quite a bit to do here, and you are strongly advised to divide this problem among your teammates!\n",
    "\n",
    "A very thorough analysis can earn up to a bonus point (spark) for this question! "
   ]
  },
  {
   "cell_type": "code",
   "execution_count": 9,
   "metadata": {},
   "outputs": [
    {
     "data": {
      "text/plain": [
       "['adventure',\n",
       " 'belles_lettres',\n",
       " 'editorial',\n",
       " 'fiction',\n",
       " 'government',\n",
       " 'hobbies',\n",
       " 'humor',\n",
       " 'learned',\n",
       " 'lore',\n",
       " 'mystery',\n",
       " 'news',\n",
       " 'religion',\n",
       " 'reviews',\n",
       " 'romance',\n",
       " 'science_fiction']"
      ]
     },
     "execution_count": 9,
     "metadata": {},
     "output_type": "execute_result"
    }
   ],
   "source": [
    "brown.categories()"
   ]
  },
  {
   "cell_type": "code",
   "execution_count": 10,
   "metadata": {},
   "outputs": [],
   "source": [
    "categories = [\"news\", \"religion\", \"fiction\"]"
   ]
  },
  {
   "cell_type": "code",
   "execution_count": 11,
   "metadata": {},
   "outputs": [],
   "source": [
    "# average sentence length = total_word/total_sent"
   ]
  },
  {
   "cell_type": "code",
   "execution_count": 12,
   "metadata": {},
   "outputs": [
    {
     "name": "stdout",
     "output_type": "stream",
     "text": [
      "news\n",
      "average sentence length: 21.75081116158339\n",
      "religion\n",
      "average sentence length: 22.95979020979021\n",
      "fiction\n",
      "average sentence length: 16.118616144975288\n"
     ]
    }
   ],
   "source": []
  },
  {
   "cell_type": "code",
   "execution_count": 13,
   "metadata": {},
   "outputs": [],
   "source": [
    "# adj_percent = adj_tokens/total_tokens\n",
    "# lex_density = open_class_tokens/total_tokens"
   ]
  },
  {
   "cell_type": "code",
   "execution_count": 14,
   "metadata": {},
   "outputs": [
    {
     "data": {
      "image/png": "[encoded data removed]",
      "text/plain": [
       "<Figure size 640x480 with 1 Axes>"
      ]
     },
     "metadata": {},
     "output_type": "display_data"
    }
   ],
   "source": [
    "open_class_prefix = {\"N\", \"V\", \"J\", \"R\"}\n",
    "\n",
    "adj_percent = []\n",
    "lex_density = []\n",
    "\n",
    "# ..."
   ]
  },
  {
   "cell_type": "code",
   "execution_count": 15,
   "metadata": {},
   "outputs": [],
   "source": [
    "# HOW TO DEFINE \"strongly associated with each genre\"\n",
    "\n",
    "# 1/ prob_cat_a['word'] >> (prob_cat_b['word'] + prob_cat_c['word'])/2 \n",
    "# 2/ prob_cat_a['word'] >> prob_cat_b['word'] && prob_cat_a['word'] >> prob_cat_c['word'] \n",
    "# 3/ prob_cat_a['word'] >> average prob_cat_a[WORD] && 'word' not in cat_b && cat_c\n",
    "# 4/ ... "
   ]
  },
  {
   "cell_type": "code",
   "execution_count": 16,
   "metadata": {},
   "outputs": [
    {
     "name": "stdout",
     "output_type": "stream",
     "text": [
      "news\n",
      "['game', 'also', 'club', 'court', 'program', 'sales', 'three', 'other', 'board', 'meeting', 'per', 'monday', 'four', 'yesterday', 'who', 'university', 'u.s.', 'tax', 'school', 'county', 'administration', 'national', 'government', ',', 'bill', 'city', 'kennedy', 'committee', 'week', 'after', 'new', 'first', 'two', 'home', 'state', 'year', 'president', 'by', 'mr.', 'last', 'has', 'on', 'at', 'mrs.', 'said', 'will', 'a', 'for', 'in', 'the']\n",
      "religion\n",
      "['born', 'jesus', 'members', 'but', 'death', 'england', 'membership', 'its', 'new', 'life', 'if', 'human', 'faith', 'by', 'power', 'has', 'so', 'christian', 'us', 'these', 'to', 'only', 'such', 'spirit', 'can', 'christ', 'may', 'our', '(', 'be', 'it', ':', 'church', 'world', 'or', ')', 'have', 'not', 'in', 'are', 'which', 'as', 'god', 'the', 'this', ';', 'we', 'that', 'is', 'of']\n",
      "fiction\n",
      "['where', 'my', 'get', 'little', 'go', 'around', 'eyes', 'came', 'old', \"don't\", 'thought', 'went', 'now', 'about', 'looked', 'there', 'back', 'on', 'did', 'were', 'them', 'at', 'when', 'what', 'could', 'with', 'me', 'down', 'up', 'they', 'like', 'out', 'would', 'it', 'you', 'and', '``', ',', '!', \"''\", 'him', 'i', 'her', 'she', '?', 'his', 'had', 'was', 'he', '.']\n"
     ]
    }
   ],
   "source": []
  },
  {
   "cell_type": "markdown",
   "metadata": {},
   "source": [
    "Answer:\n",
    "\n",
    "..."
   ]
  },
  {
   "cell_type": "markdown",
   "metadata": {},
   "source": [
    "### Exercise 1: Acoustic features"
   ]
  },
  {
   "cell_type": "code",
   "execution_count": 17,
   "metadata": {},
   "outputs": [],
   "source": [
    "# import sys\n",
    "\n",
    "### !!! IMPORTANT !!! ###\n",
    "# !python3 -m pip install install --upgrade pip\n",
    "# !python3 -m pip install opensmile==2.5.0"
   ]
  },
  {
   "cell_type": "markdown",
   "metadata": {},
   "source": [
    "We will be using a function called \"process_file\" to process every file in a directory - it reads in the path_name of a file, and produces a data frame consisting of a set of features.  We will be using the extended Geneva Minimalistic Acoustic Parameter Set (eGMAPs) feature set, which consists of 88 features belonging to several different classes (you don't need to know what all of these features are, exactly, but if you are interested in learning more, you can look [here](https://ieeexplore.ieee.org/stamp/stamp.jsp?tp=&arnumber=7160715)):\n",
    "\n",
    "   * Pitch features: Pitch is how \"high\" or \"low\" a voice sounds, in Hz (Hertz - beats / second). Pitch is indicated by the \"fundamental frequency\" of a speech signal (also written as F0, and called \"F-Zero\").  It is inversely-correlated with the length of the vocal cords, which is why men tend to have lower voices than women or children.\n",
    "   \n",
    "   * Amplitude features: Amplitude is, roughly speaking, the \"loudness\" of a signal, and is concerned with peaks in the energy wave.\n",
    "   \n",
    "   \n",
    "   * Spectral features define properties about the frequency and amplitude of the sound wave.  Some of the most important spectral features related to speech are called \"formants\", and are labeled F1-FN.  The lower formants (F1-F3), in particular, are very important for the recognition of phones.  F1 and F2 are used to determine vowel quality (/i/ -> the \"ee\" vowel, has a very low F1, and a very high F2; /ɑ/, the \"ah\" vowel, has a very high F1, and a lower F2, etc.  Other spectral features, such as *jitter* and *shimmer*, measure changes in F0's frequency and amplitude, respectively, between timesteps.\n",
    "      \n",
    "   \n",
    "   First, we'll be creating a data set by using process_file to transform the files in speech_data to a feature set.  You should get a dataframe with 250 instances with 88 features each.  Hint: you can use the os.walk function to loop through all the files in a directory.)\n",
    "  \n"
   ]
  },
  {
   "cell_type": "code",
   "execution_count": 18,
   "metadata": {},
   "outputs": [],
   "source": [
    "# 1/ how to read a list of files using `os.walk`, \n",
    "# 2/ how to process/extract features from audio files using `features = smile.process_file`,\n",
    "# 3/ how to put them in pandas: pandas.concat([data,features])  where `data =  pandas.DataFrame()`"
   ]
  },
  {
   "cell_type": "code",
   "execution_count": 19,
   "metadata": {},
   "outputs": [],
   "source": [
    "import opensmile\n",
    "import pandas as pd\n",
    "import os\n",
    "from tqdm import tqdm\n",
    "smile = opensmile.Smile(\n",
    "    feature_set=opensmile.FeatureSet.eGeMAPSv02,\n",
    "    feature_level=opensmile.FeatureLevel.Functionals,\n",
    ")\n",
    "### Your code here ###\n",
    "data = \n",
    "audio_files = \"./opensmile/TRAIN/\"\n",
    "for root, _, files in os.walk(audio_files):\n",
    "    for file in files:\n",
    "        # ...\n",
    "\n",
    "\n",
    "### Your code here ###"
   ]
  },
  {
   "cell_type": "markdown",
   "metadata": {},
   "source": [
    "##### 1.2\n",
    "\n",
    "rubric={accuracy:3}\n",
    "\n",
    "Next, we're going to try to identify features that might be good for learning a sentiment analysis classifier.  Read in the file Train.csv, and convert \"Negative\" to -1, \"Neutral\" to 0, and \"Positive\" to +1. This should give you a data-frame of 250 items, each with a single dependent variable.\n",
    "\n",
    "For each feature in our data set, calculate the Spearman's rank coefficient for the variable, and sort your features by the absolute value of this variable (why not rank them by just the value?).  We'll be covering rank coefficient in later classes, but it calculates a correlation in the ordering of the items: 1.0 suggests that \"Positive\" documents have a high value for the variable, \"Negative\" documents have a low value, and \"Neutral\" documents are somewhere in between; -1.0 suggests the opposite, and values close to 0 suggest no correlation.  The *spearmanr* function expects two arrays - make sure that your data is not still in a data frame when you pass it to the function.\n",
    "\n",
    "Note: make sure that your features and classes match - your functions may read the files in in different orders.  You may need to re-order the classes that you read in in the csv file.\n",
    "\n",
    "You need to do 3 operations:\n",
    "1. Read the Train.csv into a dictionary *targets* that contains the filename as the key, and the sentiment (-1, 0, 1) as the value.\n",
    "```\n",
    "# Filename,Class\n",
    "# 346.wav,Negative      --> -1\n",
    "# 163.wav,Neutral       --> 0\n",
    "# ...\n",
    "# 5.wav,Positive        --> 1\n",
    "```\n",
    "\n",
    "2. Create a numpy array *classes* that contains the sentiment scores in the same order as the data structure you created in 1.1.\n",
    "```\n",
    "for i in data.iloc:\n",
    "    print(i)\n",
    "    print(i.name[0])\n",
    "\n",
    "    print(targets[file_name])   --> append to `classes` -->  then, np.array(classes)\n",
    "\n",
    "```\n",
    "\n",
    "3. Calculate the ranked spearman correlation between your data and the classes.  Create a list containing tuples (feature_name, correlation); sort the list by the correlation, in descending order.\n",
    "```\n",
    "`spearmanr` with ith data and classes\n",
    "you may want to change the return value of `spearmanr` with `abs`, which will be your tuple with `i`:  \n",
    "`(i, abs(spearmanr_result))`\n",
    "```\n",
    "see https://docs.scipy.org/doc/scipy/reference/generated/scipy.stats.spearmanr.html"
   ]
  },
  {
   "cell_type": "code",
   "execution_count": 23,
   "metadata": {},
   "outputs": [
    {
     "name": "stdout",
     "output_type": "stream",
     "text": [
      "F0semitoneFrom27.5Hz_sma3nz_amean             0.000000\n",
      "F0semitoneFrom27.5Hz_sma3nz_stddevNorm        0.000000\n",
      "F0semitoneFrom27.5Hz_sma3nz_percentile20.0    0.000000\n",
      "F0semitoneFrom27.5Hz_sma3nz_percentile50.0    0.000000\n",
      "F0semitoneFrom27.5Hz_sma3nz_percentile80.0    0.000000\n",
      "                                                ...   \n",
      "MeanVoicedSegmentLengthSec                    0.000000\n",
      "StddevVoicedSegmentLengthSec                  0.000000\n",
      "MeanUnvoicedSegmentLength                     2.300000\n",
      "StddevUnvoicedSegmentLength                   0.000000\n",
      "equivalentSoundLevel_dBp                     -3.807307\n",
      "Name: (./opensmile/TRAIN/275.wav, 0 days 00:00:00, 0 days 00:00:02.377142857), Length: 88, dtype: float32\n",
      "./opensmile/TRAIN/275.wav\n",
      "275.wav\n",
      "-1\n"
     ]
    }
   ],
   "source": [
    "count = 0\n",
    "for i in data.iloc:\n",
    "    print(i)\n",
    "    print(i.name[0])\n",
    "    print(os.path.split(i.name[0])[-1])\n",
    "    print(targets[name])        \n",
    "    break "
   ]
  },
  {
   "cell_type": "code",
   "execution_count": 21,
   "metadata": {},
   "outputs": [],
   "source": [
    "import csv\n",
    "import numpy as np\n",
    "targets = {}\n",
    "classes = []\n",
    "\n",
    "\n",
    "### Read in CSV file\n",
    "with open(\"./opensmile/TRAIN.csv\") as csvfile:\n",
    "    # ...\n",
    "\n",
    "\n",
    "### Re-order classes to be in same order as X-side data.\n",
    "for i in data.iloc:\n",
    "    # results should be appended to `classes`\n",
    "\n",
    "classes = np.array(classes)\n"
   ]
  },
  {
   "cell_type": "code",
   "execution_count": 22,
   "metadata": {},
   "outputs": [
    {
     "name": "stdout",
     "output_type": "stream",
     "text": [
      "[ 0.       27.923246 27.616077 26.974255 28.524914  0.       26.130066\n",
      "  0.       27.718287  0.       27.052464  0.       26.84621   0.\n",
      " 27.199451 28.134117 26.715942  0.       29.521318 27.060596 27.085302\n",
      "  0.       26.078522  0.        0.       27.457468 27.08951   0.\n",
      "  0.       28.250963 27.47989   0.       27.067898 26.975119 27.03469\n",
      " 27.619026 27.576824 27.82539  26.845097  0.        0.        0.\n",
      " 27.55262   0.       28.138527  0.       29.09091  28.115582 27.35082\n",
      " 27.849318 28.134884 27.7279    0.        0.       26.738972 27.502972\n",
      " 23.198082 27.231953 27.337889 27.452139 26.916979  0.        0.\n",
      " 26.851776  0.       27.38088   0.       27.923157 30.165234  0.\n",
      "  0.       27.745296  0.       28.899874  0.       28.224504 27.71329\n",
      " 27.508121 29.334883 27.424416  0.       22.68777   0.       27.629934\n",
      " 27.539377 25.297983 27.63491  26.427753 27.309385 27.029436 26.550295\n",
      "  0.       27.867323 27.29493  26.680492 24.78723  27.548193 30.331163\n",
      " 27.925209 27.926283 29.355864  0.        0.        0.       27.501558\n",
      " 28.455153 26.12025  27.245905 27.569113  0.       27.505943  0.\n",
      " 27.9831   27.63204   0.       27.241066 28.943645 27.084143 23.518105\n",
      "  0.       27.902094 26.755352 27.654343 27.426283  0.       29.349985\n",
      " 27.125425 27.953487  0.       24.93226  27.414293 26.144115  0.\n",
      " 28.07273  29.234886  0.       23.677872 28.025309 26.98222  28.926344\n",
      " 27.08186   0.        0.       28.47469  24.176233 25.917297 27.663965\n",
      " 26.862574 28.13592  28.714151 27.414896 26.49876  23.978762  0.\n",
      " 27.934822  0.        0.       27.730354  0.        0.        0.\n",
      "  0.       26.097311 27.683771 27.159155 27.31695  24.668568 27.666035\n",
      " 25.762636 27.929667 28.085865 27.987934  0.        0.       27.05719\n",
      "  0.       27.176136 28.559511  0.        0.        0.       24.65366\n",
      " 27.975538 26.136497  0.        0.       27.506947 28.562626  0.\n",
      " 28.089722 27.422052  0.        0.       28.049028 27.478426  0.\n",
      " 27.860937 28.838047 27.303223 27.526638  0.       28.388027 28.294258\n",
      " 27.33249   0.       26.774551 28.65824  27.72968   0.       28.041462\n",
      " 27.34602  27.814842 27.43467  27.746944  0.       27.444305  0.\n",
      " 27.2452   27.879694 27.748478 27.615725 26.909002  0.       28.213703\n",
      " 26.972303 27.846216 27.094494 27.899122 27.609661 28.518448  0.\n",
      " 27.962326 28.3399    0.        0.       28.135479  0.       27.383522\n",
      " 27.130487 26.676714 27.434696 27.58307  27.735415 29.36098  27.70817\n",
      "  0.       27.893187 27.725971  0.        0.      ] [-1 -1  1  1  1 -1 -1 -1 -1  1  1  1 -1 -1 -1 -1 -1  1  1  1 -1 -1 -1 -1\n",
      "  1  0  1  1 -1 -1 -1  1  1  1  1  0 -1 -1 -1  1  1  1  1 -1 -1 -1 -1 -1\n",
      " -1  1 -1 -1 -1  1  1 -1  0  1  0  0  0  0  0  1  1  1  0  0  0  0  0  1\n",
      "  1  0  1  0 -1  0  1  0  1  0  0  0  0  0  1  1  1  0  0  0  1  0  0  0\n",
      "  1  1  1  0  0  0  0  1  0  0  1  1  1  1  0  1  1  0  0 -1 -1 -1  0  0\n",
      "  1  0  1  1  0  0  1  0  0  0  0  0  1  1  0  1  0 -1 -1 -1  0  0  0  0\n",
      "  0  0  1  1  0  0  1  1 -1 -1  1  1  1  1  0  0  0  0  0  0  1  0  0  1\n",
      "  0  0 -1 -1 -1 -1  1  0  0  0  1  1  1  0  1  0  0  0 -1 -1 -1  0  1  0\n",
      " -1 -1 -1  0  1  1 -1 -1 -1 -1 -1 -1  1  1  0 -1 -1 -1  1  1  1 -1 -1 -1\n",
      " -1 -1 -1 -1  1  1 -1 -1 -1  1  1  1 -1 -1 -1 -1 -1 -1 -1 -1  1  0  0 -1\n",
      " -1 -1 -1 -1  0 -1 -1 -1 -1 -1]\n"
     ]
    }
   ],
   "source": [
    "from scipy.stats import spearmanr\n",
    "correlations = []\n",
    "import math\n",
    "\n",
    "for i in data:\n",
    "    print(np.array(data[i]), classes)\n",
    "#     cor, p = spearmanr(X, classes)\n",
    "#     cor = abs(cor)\n",
    "#     correlations.append((i, cor))\n",
    "# correlations = sorted(correlations, key=lambda x: x[1], reverse=True)\n",
    "    break "
   ]
  },
  {
   "cell_type": "code",
   "execution_count": 24,
   "metadata": {},
   "outputs": [],
   "source": [
    "from scipy.stats import spearmanr\n",
    "correlations = []\n",
    "import math\n",
    "\n",
    "for i in data:\n",
    "    # ..."
   ]
  },
  {
   "cell_type": "code",
   "execution_count": 25,
   "metadata": {},
   "outputs": [
    {
     "data": {
      "text/plain": [
       "[('mfcc1V_sma3nz_amean', 0.2099267483028794),\n",
       " ('F1frequency_sma3nz_amean', 0.20881643142591008),\n",
       " ('mfcc1_sma3_amean', 0.19975211351481237),\n",
       " ('slopeUV0-500_sma3nz_amean', 0.18745066968212662),\n",
       " ('mfcc4_sma3_stddevNorm', 0.18063979974674654),\n",
       " ('slopeUV500-1500_sma3nz_amean', 0.1565102795593888),\n",
       " ('loudness_sma3_percentile20.0', 0.15471949736123558),\n",
       " ('F3frequency_sma3nz_amean', 0.1538476882641244),\n",
       " ('F3frequency_sma3nz_stddevNorm', 0.15040186301773548),\n",
       " ('slopeV500-1500_sma3nz_amean', 0.14964774009236556),\n",
       " ('F2frequency_sma3nz_amean', 0.14515895250973904),\n",
       " ('alphaRatioV_sma3nz_amean', 0.14070446202454023),\n",
       " ('shimmerLocaldB_sma3nz_stddevNorm', 0.12773159485993074),\n",
       " ('hammarbergIndexV_sma3nz_amean', 0.12114685212987819),\n",
       " ('logRelF0-H1-A3_sma3nz_amean', 0.11641715842917456),\n",
       " ('loudness_sma3_pctlrange0-2', 0.11638525676944124),\n",
       " ('StddevUnvoicedSegmentLength', 0.11586895474416674),\n",
       " ('F1frequency_sma3nz_stddevNorm', 0.1153874190702585),\n",
       " ('slopeV0-500_sma3nz_amean', 0.11485106205265291),\n",
       " ('mfcc1_sma3_stddevNorm', 0.11410437509181738),\n",
       " ('F0semitoneFrom27.5Hz_sma3nz_percentile50.0', 0.1134539718550224),\n",
       " ('F1amplitudeLogRelF0_sma3nz_amean', 0.1095684826126918),\n",
       " ('F1bandwidth_sma3nz_amean', 0.10481936766404713),\n",
       " ('F1amplitudeLogRelF0_sma3nz_stddevNorm', 0.10466854307897316),\n",
       " ('loudnessPeaksPerSec', 0.1024026956230331),\n",
       " ('slopeV500-1500_sma3nz_stddevNorm', 0.0988971266961558),\n",
       " ('F2bandwidth_sma3nz_amean', 0.09645211554579207),\n",
       " ('F2amplitudeLogRelF0_sma3nz_amean', 0.0958310488297203),\n",
       " ('mfcc1V_sma3nz_stddevNorm', 0.08933360834834132),\n",
       " ('F0semitoneFrom27.5Hz_sma3nz_percentile80.0', 0.08800841808989676),\n",
       " ('F3amplitudeLogRelF0_sma3nz_amean', 0.08689438225055578),\n",
       " ('F0semitoneFrom27.5Hz_sma3nz_amean', 0.08208369781375763),\n",
       " ('spectralFlux_sma3_amean', 0.08184287418491555),\n",
       " ('F0semitoneFrom27.5Hz_sma3nz_percentile20.0', 0.08079693683315384),\n",
       " ('MeanUnvoicedSegmentLength', 0.07816741739697997),\n",
       " ('hammarbergIndexUV_sma3nz_amean', 0.07590785629577429),\n",
       " ('F2amplitudeLogRelF0_sma3nz_stddevNorm', 0.07175779217974727),\n",
       " ('equivalentSoundLevel_dBp', 0.07139109587804453),\n",
       " ('loudness_sma3_stddevRisingSlope', 0.06881171769365314),\n",
       " ('mfcc2_sma3_stddevNorm', 0.06855558758390518),\n",
       " ('mfcc2V_sma3nz_amean', 0.06828965315912824),\n",
       " ('slopeV0-500_sma3nz_stddevNorm', 0.06427606632399507),\n",
       " ('alphaRatioUV_sma3nz_amean', 0.06369725665207056),\n",
       " ('mfcc4V_sma3nz_stddevNorm', 0.06227567778606861),\n",
       " ('loudness_sma3_percentile50.0', 0.05869308617021104),\n",
       " ('F0semitoneFrom27.5Hz_sma3nz_stddevNorm', 0.058119530726687435),\n",
       " ('F3amplitudeLogRelF0_sma3nz_stddevNorm', 0.055672453486117206),\n",
       " ('MeanVoicedSegmentLengthSec', 0.05153249737213048),\n",
       " ('F3bandwidth_sma3nz_stddevNorm', 0.049652279842438106),\n",
       " ('mfcc4_sma3_amean', 0.048659080704672),\n",
       " ('jitterLocal_sma3nz_amean', 0.047778546828436415),\n",
       " ('loudness_sma3_percentile80.0', 0.04435966559025119),\n",
       " ('spectralFluxV_sma3nz_amean', 0.04335442367500635),\n",
       " ('HNRdBACF_sma3nz_amean', 0.04053627663335),\n",
       " ('spectralFlux_sma3_stddevNorm', 0.03929072279427449),\n",
       " ('mfcc3V_sma3nz_amean', 0.03922596222439218),\n",
       " ('loudness_sma3_amean', 0.038310990621621265),\n",
       " ('shimmerLocaldB_sma3nz_amean', 0.037975856837096894),\n",
       " ('logRelF0-H1-A3_sma3nz_stddevNorm', 0.03428965950303927),\n",
       " ('logRelF0-H1-H2_sma3nz_amean', 0.03302025368017002),\n",
       " ('StddevVoicedSegmentLengthSec', 0.03270718369037839),\n",
       " ('F0semitoneFrom27.5Hz_sma3nz_meanRisingSlope', 0.0286853310242456),\n",
       " ('mfcc2V_sma3nz_stddevNorm', 0.027950894749518958),\n",
       " ('F1bandwidth_sma3nz_stddevNorm', 0.02745379344583676),\n",
       " ('loudness_sma3_meanFallingSlope', 0.026384329990116806),\n",
       " ('F2bandwidth_sma3nz_stddevNorm', 0.02620008990853685),\n",
       " ('mfcc2_sma3_amean', 0.022038881721637853),\n",
       " ('mfcc3V_sma3nz_stddevNorm', 0.020953047220127405),\n",
       " ('loudness_sma3_stddevNorm', 0.016557270031316986),\n",
       " ('loudness_sma3_stddevFallingSlope', 0.013160840618425654),\n",
       " ('VoicedSegmentsPerSec', 0.012905092719723753),\n",
       " ('HNRdBACF_sma3nz_stddevNorm', 0.012131255256443891),\n",
       " ('spectralFluxV_sma3nz_stddevNorm', 0.01131349675271399),\n",
       " ('F0semitoneFrom27.5Hz_sma3nz_stddevRisingSlope', 0.010708965411867014),\n",
       " ('F0semitoneFrom27.5Hz_sma3nz_pctlrange0-2', 0.010307310822151932),\n",
       " ('alphaRatioV_sma3nz_stddevNorm', 0.009419718469442569),\n",
       " ('mfcc4V_sma3nz_amean', 0.009078813585371236),\n",
       " ('F2frequency_sma3nz_stddevNorm', 0.008951955646692569),\n",
       " ('F0semitoneFrom27.5Hz_sma3nz_meanFallingSlope', 0.008526754282196325),\n",
       " ('jitterLocal_sma3nz_stddevNorm', 0.007715972611456989),\n",
       " ('logRelF0-H1-H2_sma3nz_stddevNorm', 0.007009417634547917),\n",
       " ('F3bandwidth_sma3nz_amean', 0.005899513975619913),\n",
       " ('loudness_sma3_meanRisingSlope', 0.0057981405461011385),\n",
       " ('mfcc3_sma3_stddevNorm', 0.0034651151187477186),\n",
       " ('spectralFluxUV_sma3nz_amean', 0.0024202032589325413),\n",
       " ('F0semitoneFrom27.5Hz_sma3nz_stddevFallingSlope', 0.0013182430447203134),\n",
       " ('mfcc3_sma3_amean', 0.0009581414012808175),\n",
       " ('hammarbergIndexV_sma3nz_stddevNorm', 0.0007710648650631616)]"
      ]
     },
     "execution_count": 25,
     "metadata": {},
     "output_type": "execute_result"
    }
   ],
   "source": [
    "correlations"
   ]
  },
  {
   "cell_type": "markdown",
   "metadata": {},
   "source": [
    "##### 1.3 Optional (Feature selection)\n",
    "\n",
    "rubric={accuracy:1, reasoning:1}\n",
    "\n",
    "When selecting features, we often try to increase efficiency by eliminating features that are unlikely to have an impact on the model.  There are several ways of selecting features, but we're going to select features that have a high correlation with the class ordering (that's why we linearized the classes to [-1, 0, 1]).\n",
    "\n",
    "Train an sklearn decision tree classifier (max_depth=5) using the features you've extracted.  Train one with all of the features, one with the 20 that you've identified as the best, and one with the 20 you've identified as the worst.  Run each model 100 times, and average the accuracies (you can use the metrics.accuracy_score() function to calculate the accuracy of your classifier).  Can we note any trends?  Explain briefly what this might mean."
   ]
  },
  {
   "cell_type": "code",
   "execution_count": null,
   "metadata": {},
   "outputs": [],
   "source": [
    "# from sklearn.model_selection import train_test_split\n",
    "# X_train, X_test, y_train, y_test = train_test_split(data, classes, test_size=0.20,random_state=42) # 80% training and 20% test\n"
   ]
  },
  {
   "cell_type": "code",
   "execution_count": null,
   "metadata": {},
   "outputs": [],
   "source": [
    "### Your code here ###\n"
   ]
  },
  {
   "cell_type": "code",
   "execution_count": null,
   "metadata": {},
   "outputs": [],
   "source": [
    "# from sklearn.tree import DecisionTreeClassifier\n",
    "# from sklearn import metrics\n",
    "\n",
    "# clf = DecisionTreeClassifier(max_depth=5)\n",
    "\n",
    "# ### Your code here ###\n",
    "\n",
    "# ### Your code here ###\n",
    "\n",
    "# print(\"Full Average Accuracy:\",np.average(full_scores))\n",
    "# print(\"Best Average Accuracy:\", np.average(best_scores))\n",
    "# print(\"Worst Average Accuracy:\", np.average(worst_scores))\n"
   ]
  },
  {
   "cell_type": "code",
   "execution_count": null,
   "metadata": {},
   "outputs": [],
   "source": [
    "# Analysis Answer: \n",
    "\n"
   ]
  },
  {
   "cell_type": "markdown",
   "metadata": {},
   "source": [
    "### Exercise 2: Readability"
   ]
  },
  {
   "cell_type": "markdown",
   "metadata": {},
   "source": [
    "[Flesh Reading Ease](https://en.wikipedia.org/wiki/Flesch%E2%80%93Kincaid_readability_tests) is calculated using the following formula:\n",
    "\n",
    "\\begin{equation*}\n",
    "206.835-1.015 \\left({\\frac {\\text{total words}}{\\text{total sentences}}}\\right) -84.6\\left({\\frac {\\text{total syllables}}{\\text{total words}}}\\right)\n",
    "\\end{equation*}\n",
    "\n",
    "Scores above 70 indicate text which are appropriate for primary school school students, scores between 70 and 50 indicate texts which can be read by secondary school students, and scores below 50 are appropriate only for college students.\n",
    "\n",
    "#### 2.1\n",
    "\n",
    "rubric={accuracy:3}\n",
    "\n",
    "First, write a function which uses the CMU dictionary to count the number of syllables in a word. The number of syllables can be most easily determined by counting the number of ARPAbet phones in the word which end with a digit (0,1, or 2), indicating the level of stress on a vowel. \n",
    "- For our purposes here, just use the first pronounciation provided. \n",
    "- If a word does not appear in the CMU, you can default to the guess that the number of syllables is equal to the number of vowels (be careful about case here, be sure to lowercase before you check the vowels!)."
   ]
  },
  {
   "cell_type": "code",
   "execution_count": 26,
   "metadata": {},
   "outputs": [],
   "source": [
    "vowels = {\"a\",\"e\",\"i\",\"o\",\"u\",\"y\"}\n",
    "p_dict = cmudict.dict() # keep this outside as a global variable so you aren't reloading each time\n",
    "\n",
    "def get_syllables(word):\n",
    "    '''use CMU dict (p_dict) to count the number of syllables in word, default to number of vowels'''\n",
    "    syllable_count = 0\n",
    "    #your code here\n",
    "    # ...\n",
    "\n",
    "    #your code here\n",
    "    return syllable_count"
   ]
  },
  {
   "cell_type": "code",
   "execution_count": 27,
   "metadata": {},
   "outputs": [
    {
     "name": "stdout",
     "output_type": "stream",
     "text": [
      "Success!\n"
     ]
    }
   ],
   "source": [
    "assert get_syllables(\"readability\") == 5\n",
    "assert get_syllables(\"blabglob\") == 2\n",
    "print(\"Success!\")"
   ]
  },
  {
   "cell_type": "markdown",
   "metadata": {},
   "source": [
    "#### 2.2 Code Review\n",
    "\n",
    "rubric={accuracy:3, reasoning:1}\n",
    "\n",
    "A function has been provided which calculates the reading ease of the sentence; however, it is not very good code.  Perform a code review, explaining in a few sentences how this code could be improved.  Secondly, write a function that correctly calculates the reading ease of a sentence.  You can use the formula provided above to calculate the reading ease.  The number of sentences will be 1 (this function calculates the reading ease for a single sentence), and the number of syllables will be calculated using the function you wrote in 2.1.  You should exclude words that have non-alphabetic characters (you can use _isalpha_).  If your sentence has no words, return None.\n"
   ]
  },
  {
   "cell_type": "code",
   "execution_count": 28,
   "metadata": {},
   "outputs": [],
   "source": [
    "def get_reading_ease(sentence):\n",
    "    '''calculate the Flesh reading ease for a single sentence consisting of a list of words (strings)'''\n",
    "    total_syllables = 0\n",
    "    num_words = 0\n",
    "    for word in sentence:\n",
    "        if not word.isalpha():\n",
    "            sentence.remove(word)\n",
    "        else:\n",
    "            num_words += 1\n",
    "            total_syllables += get_syllables(word)\n",
    "    print(\"Syllables: \", total_syllables)\n",
    "    reading_ease = 206.835 - 1.015 * num_words - 846 * (total_syllables/num_words) \n",
    "    return reading_ease"
   ]
  },
  {
   "cell_type": "code",
   "execution_count": 29,
   "metadata": {},
   "outputs": [
    {
     "name": "stdout",
     "output_type": "stream",
     "text": [
      "Syllables:  3\n",
      "-642.21\n",
      "['This', 'is', 'a', 'test']\n"
     ]
    }
   ],
   "source": [
    "sentence = \"This is a fea342 test\".split(\" \")\n",
    "print(get_reading_ease(sentence))\n",
    "print(sentence)"
   ]
  },
  {
   "cell_type": "markdown",
   "metadata": {},
   "source": [
    "Your written answer here:\n"
   ]
  },
  {
   "cell_type": "code",
   "execution_count": 30,
   "metadata": {},
   "outputs": [],
   "source": [
    "def get_reading_ease(sentence):\n",
    "    '''calculate the Flesh reading ease for a single sentence consisting of a list of words (strings)'''\n",
    "    # your code here\n",
    "    \n",
    "    # ...\n",
    "    # your code here\n",
    "    return reading_ease\n"
   ]
  },
  {
   "cell_type": "code",
   "execution_count": 31,
   "metadata": {},
   "outputs": [
    {
     "name": "stdout",
     "output_type": "stream",
     "text": [
      "Success!\n"
     ]
    }
   ],
   "source": [
    "assert 100 < get_reading_ease([\"I\", \"am\", \"done\", \",\",\"man\"]) < 140\n",
    "assert -60 < get_reading_ease([\"Felicitations\", \"for\", \"achieving\", \"a\", \"thoroughly\", \"excellent\", \"resolution\", \"to\", \"an\", \"altogether\", \"indombidable\", \"conundrum\", \"of\", \"humongous\", \"proportions\", \".\"]) <-20\n",
    "assert get_reading_ease([\"?\"]) == None\n",
    "print(\"Success!\")"
   ]
  },
  {
   "cell_type": "markdown",
   "metadata": {},
   "source": [
    "#### 2.3\n",
    "\n",
    "rubric={accuracy:2,quality:1}\n",
    "\n",
    "Finally, use the function you just wrote to calculate the average reading ease (across all sentences) for two NLTK corpora: the Penn Treebank (treebank), and the Movie Review corpus (movie_reviews). You should print out your results, and it should be clear which is which. Note the quality point for this problem, make sure to document and avoid repeated code! Save the result in variables `penn_readability` and `review_readability` and run the tests to confirm your results are correct.\n",
    "\n",
    "Note, if `get_reading_ease` returns None, you should skip over that sentence for the purposes of these calculations."
   ]
  },
  {
   "cell_type": "code",
   "execution_count": 32,
   "metadata": {},
   "outputs": [
    {
     "name": "stdout",
     "output_type": "stream",
     "text": [
      "Treebank readability\n",
      "47.123132451339806\n",
      "Movie review readability\n",
      "59.39520661660777\n"
     ]
    }
   ],
   "source": [
    "def calculate_avg_reading_ease(corpus):\n",
    "    '''calculate and return average Flesh reading ease for all sentences in a corpus'''\n",
    "    total_sents = 0\n",
    "    total_ease = 0\n",
    "    \n",
    "\n",
    "    # ...\n",
    "    return total_ease/total_sents\n",
    "\n",
    "\n",
    "penn_readability = calculate_avg_reading_ease(treebank)\n",
    "review_readability = calculate_avg_reading_ease(movie_reviews)\n",
    "\n",
    "print(\"Treebank readability\")\n",
    "print(penn_readability)\n",
    "print(\"Movie review readability\")\n",
    "print(review_readability)\n"
   ]
  },
  {
   "cell_type": "code",
   "execution_count": 33,
   "metadata": {},
   "outputs": [
    {
     "name": "stdout",
     "output_type": "stream",
     "text": [
      "Success!\n"
     ]
    }
   ],
   "source": [
    "assert 40 < penn_readability < 50\n",
    "assert 55 < review_readability < 65\n",
    "print(\"Success!\")"
   ]
  },
  {
   "cell_type": "markdown",
   "metadata": {},
   "source": [
    "#### 2.4 \n",
    "\n",
    "rubric={reasoning:1}\n",
    "\n",
    "Do these results make sense given the genre of these texts? Why?"
   ]
  },
  {
   "cell_type": "markdown",
   "metadata": {},
   "source": [
    "Answer:\n"
   ]
  },
  {
   "cell_type": "code",
   "execution_count": null,
   "metadata": {},
   "outputs": [],
   "source": []
  }
 ],
 "metadata": {
  "kernelspec": {
   "display_name": "Python 3 (ipykernel)",
   "language": "python",
   "name": "python3"
  },
  "language_info": {
   "codemirror_mode": {
    "name": "ipython",
    "version": 3
   },
   "file_extension": ".py",
   "mimetype": "text/x-python",
   "name": "python",
   "nbconvert_exporter": "python",
   "pygments_lexer": "ipython3",
   "version": "3.9.6"
  }
 },
 "nbformat": 4,
 "nbformat_minor": 2
}
